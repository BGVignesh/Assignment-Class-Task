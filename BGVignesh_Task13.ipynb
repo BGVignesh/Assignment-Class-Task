{
 "cells": [
  {
   "cell_type": "markdown",
   "id": "565c34c0",
   "metadata": {},
   "source": [
    "**Write a function called \"add_numbers\" that takes two integers as input and returns their sum.**"
   ]
  },
  {
   "cell_type": "code",
   "execution_count": 2,
   "id": "868b3643",
   "metadata": {},
   "outputs": [
    {
     "name": "stdout",
     "output_type": "stream",
     "text": [
      "Addition of 2 numbers is:  80\n"
     ]
    }
   ],
   "source": [
    "def add_number(add1,add2):\n",
    "    print(\"Addition of 2 numbers is: \", add1 + add2)\n",
    "add_number(25,55)"
   ]
  },
  {
   "cell_type": "markdown",
   "id": "5b0d06f5",
   "metadata": {},
   "source": [
    "**Write a function called \"multiply_numbers\" that takes two integers as input and returns their product.**"
   ]
  },
  {
   "cell_type": "code",
   "execution_count": 4,
   "id": "7ee7815b",
   "metadata": {},
   "outputs": [
    {
     "name": "stdout",
     "output_type": "stream",
     "text": [
      "MUltiplication of 2 numbers:  40\n"
     ]
    }
   ],
   "source": [
    "def multiply_numbers(mul1, mul2):\n",
    "    print(\"MUltiplication of 2 numbers: \", mul1*mul2)\n",
    "multiply_numbers(5,mul2 = 8)"
   ]
  },
  {
   "cell_type": "markdown",
   "id": "61ceedef",
   "metadata": {},
   "source": [
    "**Write a function called \"calculate_average\" that takes a list of numbers as input and returns the average of thosenumbers.**"
   ]
  },
  {
   "cell_type": "code",
   "execution_count": 5,
   "id": "1ade2e7b",
   "metadata": {},
   "outputs": [
    {
     "name": "stdout",
     "output_type": "stream",
     "text": [
      "5.666666666666667\n"
     ]
    }
   ],
   "source": [
    "a= [6,5,9,2,4,8]\n",
    "\n",
    "def calculate_average(x,y):\n",
    "    print(x/y)\n",
    "calculate_average(x = sum(a), y = len(a))"
   ]
  },
  {
   "cell_type": "markdown",
   "id": "39a28b01",
   "metadata": {},
   "source": [
    "**Write a function called \"is_even\" that takes an integer as input and returns True if the number is even, and False otherwise.**"
   ]
  },
  {
   "cell_type": "code",
   "execution_count": 8,
   "id": "66e3c558",
   "metadata": {},
   "outputs": [
    {
     "name": "stdout",
     "output_type": "stream",
     "text": [
      "True\n"
     ]
    }
   ],
   "source": [
    "def is_even(x):\n",
    "    if x%2 == 0:\n",
    "        print(\"True\")\n",
    "    else:\n",
    "        print(\"False\")\n",
    "is_even(6)"
   ]
  },
  {
   "cell_type": "markdown",
   "id": "9fed2c93",
   "metadata": {},
   "source": [
    "**Write a function called \"reverse_string\" that takes a string as input and returns the reverse of that string.**"
   ]
  },
  {
   "cell_type": "code",
   "execution_count": 9,
   "id": "398bb201",
   "metadata": {},
   "outputs": [
    {
     "name": "stdout",
     "output_type": "stream",
     "text": [
      "hsengiV\n"
     ]
    }
   ],
   "source": [
    "def reverse_string(x):\n",
    "    print(x[-1::-1])\n",
    "reverse_string(\"Vignesh\")"
   ]
  },
  {
   "cell_type": "markdown",
   "id": "408b4253",
   "metadata": {},
   "source": [
    "**Write a function called \"count_vowels\" that takes a string as input and returns the number of vowels (a, e, i, o, u) in that string.**"
   ]
  },
  {
   "cell_type": "code",
   "execution_count": 40,
   "id": "d015a3d3",
   "metadata": {},
   "outputs": [
    {
     "name": "stdout",
     "output_type": "stream",
     "text": [
      "['i', 'o', 'a', 'i', 'e', 'e', 'a', 'a']\n",
      "Number of vowels in string are:  8\n"
     ]
    }
   ],
   "source": [
    "vowels = ['a','e','i','o','u']\n",
    "\n",
    "y = []\n",
    "def count_vowels(x):\n",
    "    for j in x:\n",
    "        if j in vowels:\n",
    "            y.append(j)\n",
    "    print(y)\n",
    "    print(\"Number of vowels in string are: \",len(y))\n",
    "count_vowels(\"innomatics research labs\")"
   ]
  },
  {
   "cell_type": "markdown",
   "id": "25f8bcf6",
   "metadata": {},
   "source": [
    "**Write a function called \"find_max\" that takes a list of numbers as input and returns the maximum value in that list.**"
   ]
  },
  {
   "cell_type": "code",
   "execution_count": 41,
   "id": "4a165353",
   "metadata": {},
   "outputs": [
    {
     "name": "stdout",
     "output_type": "stream",
     "text": [
      "The maximum of the list:  92\n"
     ]
    }
   ],
   "source": [
    "def find_max(x):\n",
    "    print(\"The maximum of the list: \",max(x))\n",
    "find_max([20,14,66,78,92,34,41,38])"
   ]
  },
  {
   "cell_type": "markdown",
   "id": "f5d4fe87",
   "metadata": {},
   "source": [
    "**Write a function called \"find_min\" that takes a list of numbers as input and returns the minimum value in that list.**"
   ]
  },
  {
   "cell_type": "code",
   "execution_count": 43,
   "id": "593f2d63",
   "metadata": {},
   "outputs": [
    {
     "name": "stdout",
     "output_type": "stream",
     "text": [
      "The minimum of the list:  14\n"
     ]
    }
   ],
   "source": [
    "def find_min(x):\n",
    "    print(\"The minimum of the list: \",min(x))\n",
    "find_min([20,14,66,78,92,34,41,38])"
   ]
  },
  {
   "cell_type": "code",
   "execution_count": null,
   "id": "37d118f2",
   "metadata": {},
   "outputs": [],
   "source": []
  }
 ],
 "metadata": {
  "kernelspec": {
   "display_name": "Python 3 (ipykernel)",
   "language": "python",
   "name": "python3"
  },
  "language_info": {
   "codemirror_mode": {
    "name": "ipython",
    "version": 3
   },
   "file_extension": ".py",
   "mimetype": "text/x-python",
   "name": "python",
   "nbconvert_exporter": "python",
   "pygments_lexer": "ipython3",
   "version": "3.11.4"
  }
 },
 "nbformat": 4,
 "nbformat_minor": 5
}
