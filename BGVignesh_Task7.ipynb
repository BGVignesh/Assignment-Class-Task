{
 "cells": [
  {
   "cell_type": "markdown",
   "id": "9755d36f",
   "metadata": {},
   "source": [
    "**Task 1: Dictionary Basics Create a Python program that defines a dictionary to store information about your favorite book. Include the title, author, publication year, and genre as key-value pairs. Print out the dictionary.and do atleast 5 dictionary methods on it.**"
   ]
  },
  {
   "cell_type": "code",
   "execution_count": 31,
   "id": "497c4dfa",
   "metadata": {},
   "outputs": [],
   "source": [
    "Books = {1997:(\"Harry Potter\",\"JK Rowling\",\"Action and Adventure\") , 1837:(\"The Pickwick Papers\",\"Charles Dickens\",\"Fiction\") , 1986:(\"Watchmen\",\"Alan Moore\",\"Comics\") , 2019:(\"The Night Fire\",\"Michael Connelly\",\"Mystery\")}              "
   ]
  },
  {
   "cell_type": "code",
   "execution_count": 32,
   "id": "47a913e0",
   "metadata": {},
   "outputs": [
    {
     "data": {
      "text/plain": [
       "{1997: ('Harry Potter', 'JK Rowling', 'Action and Adventure'),\n",
       " 1837: ('The Pickwick Papers', 'Charles Dickens', 'Fiction'),\n",
       " 1986: ('Watchmen', 'Alan Moore', 'Comics'),\n",
       " 2019: ('The Night Fire', 'Michael Connelly', 'Mystery')}"
      ]
     },
     "execution_count": 32,
     "metadata": {},
     "output_type": "execute_result"
    }
   ],
   "source": [
    "Books"
   ]
  },
  {
   "cell_type": "code",
   "execution_count": 33,
   "id": "5f60e01e",
   "metadata": {},
   "outputs": [
    {
     "data": {
      "text/plain": [
       "('Watchmen', 'Alan Moore', 'Comics')"
      ]
     },
     "execution_count": 33,
     "metadata": {},
     "output_type": "execute_result"
    }
   ],
   "source": [
    "Books.get(1986)"
   ]
  },
  {
   "cell_type": "code",
   "execution_count": 34,
   "id": "62b1f725",
   "metadata": {},
   "outputs": [
    {
     "data": {
      "text/plain": [
       "dict_items([(1997, ('Harry Potter', 'JK Rowling', 'Action and Adventure')), (1837, ('The Pickwick Papers', 'Charles Dickens', 'Fiction')), (1986, ('Watchmen', 'Alan Moore', 'Comics')), (2019, ('The Night Fire', 'Michael Connelly', 'Mystery'))])"
      ]
     },
     "execution_count": 34,
     "metadata": {},
     "output_type": "execute_result"
    }
   ],
   "source": [
    "Books.items()"
   ]
  },
  {
   "cell_type": "code",
   "execution_count": 35,
   "id": "79fd6de7",
   "metadata": {},
   "outputs": [
    {
     "data": {
      "text/plain": [
       "dict_keys([1997, 1837, 1986, 2019])"
      ]
     },
     "execution_count": 35,
     "metadata": {},
     "output_type": "execute_result"
    }
   ],
   "source": [
    "Books.keys()"
   ]
  },
  {
   "cell_type": "code",
   "execution_count": 36,
   "id": "1983b2b0",
   "metadata": {},
   "outputs": [
    {
     "data": {
      "text/plain": [
       "('The Night Fire', 'Michael Connelly', 'Mystery')"
      ]
     },
     "execution_count": 36,
     "metadata": {},
     "output_type": "execute_result"
    }
   ],
   "source": [
    "Books.pop(2019)"
   ]
  },
  {
   "cell_type": "code",
   "execution_count": 38,
   "id": "cc63264e",
   "metadata": {},
   "outputs": [
    {
     "data": {
      "text/plain": [
       "(1986, ('Watchmen', 'Alan Moore', 'Comics'))"
      ]
     },
     "execution_count": 38,
     "metadata": {},
     "output_type": "execute_result"
    }
   ],
   "source": [
    "Books.popitem()"
   ]
  },
  {
   "cell_type": "markdown",
   "id": "0ea67a65",
   "metadata": {},
   "source": [
    "**Task 2: Dictionary Lookup Write a Python program that simulates a simple dictionary for translating English words to Spanish. Define a dictionary containing a few English words as keys and their corresponding Spanish translations as values. Allow users to enter an English word, and then display its Spanish translation if it exists in the dictionary.(use google for English to Spanish translator)**"
   ]
  },
  {
   "cell_type": "code",
   "execution_count": 40,
   "id": "588241b9",
   "metadata": {},
   "outputs": [
    {
     "name": "stdout",
     "output_type": "stream",
     "text": [
      "Enter the english word: Translation\n"
     ]
    },
    {
     "data": {
      "text/plain": [
       "'Traducción'"
      ]
     },
     "execution_count": 40,
     "metadata": {},
     "output_type": "execute_result"
    }
   ],
   "source": [
    "translate = {'Translation':\"Traducción\" , 'Meaning':'Significado', 'Sense':'Sentido', 'Shopping':'Compras'}\n",
    "\n",
    "know = input('Enter the english word: ')\n",
    "translate.get(know)"
   ]
  },
  {
   "cell_type": "markdown",
   "id": "f49d6bea",
   "metadata": {},
   "source": [
    "**Task 3: Student Grades Create a Python program that stores the grades of five students in a dictionary. Allow users to input the names of the students and their respective grades. Calculate and display the average grade of the students.**"
   ]
  },
  {
   "cell_type": "code",
   "execution_count": 42,
   "id": "efb793d5",
   "metadata": {},
   "outputs": [
    {
     "name": "stdout",
     "output_type": "stream",
     "text": [
      "Name of S1: Ram\n",
      "Grade of S1: 6.6\n",
      "Name of S2: Bhim\n",
      "Grade of S2: 7.6\n",
      "Name of S3: Shyam\n",
      "Grade of S3: 8.6\n",
      "Name of S4: Lucky\n",
      "Grade of S4: 9.6\n",
      "Name of S5: Laddu\n",
      "Grade of S5: 10\n"
     ]
    }
   ],
   "source": [
    "students = {}\n",
    "s1 = input('Name of S1: ')\n",
    "G1 = float(input('Grade of S1: '))\n",
    "\n",
    "s2 = input('Name of S2: ')\n",
    "G2 = float(input('Grade of S2: '))\n",
    "\n",
    "s3 = input('Name of S3: ')\n",
    "G3 = float(input('Grade of S3: '))\n",
    "\n",
    "s4 = input('Name of S4: ')\n",
    "G4 = float(input('Grade of S4: '))\n",
    "\n",
    "s5 = input('Name of S5: ')\n",
    "G5 = float(input('Grade of S5: '))\n",
    "\n",
    "students.update({s1:G1, s2:G2, s3:G3, s4:G4})\n"
   ]
  },
  {
   "cell_type": "code",
   "execution_count": 47,
   "id": "47e6a385",
   "metadata": {},
   "outputs": [],
   "source": [
    "sum_of_grades = sum(students.values())"
   ]
  },
  {
   "cell_type": "code",
   "execution_count": 48,
   "id": "8bd463bc",
   "metadata": {},
   "outputs": [
    {
     "data": {
      "text/plain": [
       "6.4799999999999995"
      ]
     },
     "execution_count": 48,
     "metadata": {},
     "output_type": "execute_result"
    }
   ],
   "source": [
    "Avg = sum_of_grades/5\n",
    "Avg"
   ]
  },
  {
   "cell_type": "markdown",
   "id": "1d8df7f1",
   "metadata": {},
   "source": [
    "**Task 4: Contact List Build a basic contact list using a dictionary. Initially, the dictionary can be empty. Allow users to add new contacts with names and phone numbers. Users should also be able to search for contacts by name and display their phone numbers(use in operator).**"
   ]
  },
  {
   "cell_type": "code",
   "execution_count": 1,
   "id": "862b8b0e",
   "metadata": {},
   "outputs": [],
   "source": [
    "Contacts = {}"
   ]
  },
  {
   "cell_type": "code",
   "execution_count": 3,
   "id": "c1239ba0",
   "metadata": {},
   "outputs": [
    {
     "name": "stdout",
     "output_type": "stream",
     "text": [
      "Enter first name: Ram\n",
      "Enter Phone of first name: 98745\n",
      "Enter second name: Bhim\n",
      "Enter Phone of second name: 87456\n",
      "Enter Third name: Shaym\n",
      "Enter Phone of Third name: 74561\n",
      "Enter Fourth name: Lucky\n",
      "Enter Phone of Fourth name: 45612\n",
      "Enter the name for Phone: Shyam\n"
     ]
    },
    {
     "data": {
      "text/plain": [
       "45621"
      ]
     },
     "execution_count": 3,
     "metadata": {},
     "output_type": "execute_result"
    }
   ],
   "source": [
    "name1 = input(\"Enter first name: \")\n",
    "P1 = int(input(\"Enter Phone of first name: \"))\n",
    "\n",
    "name2 = input(\"Enter second name: \")\n",
    "P2 = int(input(\"Enter Phone of second name: \"))\n",
    "\n",
    "name3 = input(\"Enter Third name: \")\n",
    "P3 = int(input(\"Enter Phone of Third name: \"))\n",
    "\n",
    "name4 = input(\"Enter Fourth name: \")\n",
    "P4 = int(input(\"Enter Phone of Fourth name: \"))\n",
    "\n",
    "Contacts.update({name1:P1, name2:P2, name3:P3, name4:P4})\n",
    "\n",
    "Phone = input(\"Enter the name for Phone: \")\n",
    "Contacts.get(Phone)"
   ]
  },
  {
   "cell_type": "code",
   "execution_count": 4,
   "id": "59949d20",
   "metadata": {},
   "outputs": [
    {
     "data": {
      "text/plain": [
       "True"
      ]
     },
     "execution_count": 4,
     "metadata": {},
     "output_type": "execute_result"
    }
   ],
   "source": [
    "\"Bhim\" in Contacts"
   ]
  },
  {
   "cell_type": "markdown",
   "id": "df40c704",
   "metadata": {},
   "source": [
    "**Task 5: Dictionary Iteration Write a Python program that defines a dictionary containing the names of fruits as keys and their corresponding colors as values (e.g., 'apple': 'red').Do atleast 5 dictionary methods on it.**"
   ]
  },
  {
   "cell_type": "code",
   "execution_count": 18,
   "id": "54367d75",
   "metadata": {},
   "outputs": [
    {
     "data": {
      "text/plain": [
       "{'apple': 'red', 'Guava': 'Green', 'Mango': 'Yellow', 'Kiwi': 'red'}"
      ]
     },
     "execution_count": 18,
     "metadata": {},
     "output_type": "execute_result"
    }
   ],
   "source": [
    "fruits = {'apple':'red', 'Guava':'Green', 'Mango':'Yellow', 'Kiwi':'red'}\n",
    "fruits"
   ]
  },
  {
   "cell_type": "code",
   "execution_count": 19,
   "id": "21da9d17",
   "metadata": {},
   "outputs": [
    {
     "data": {
      "text/plain": [
       "dict_values(['red', 'Green', 'Yellow', 'red'])"
      ]
     },
     "execution_count": 19,
     "metadata": {},
     "output_type": "execute_result"
    }
   ],
   "source": [
    "fruits.values()"
   ]
  },
  {
   "cell_type": "code",
   "execution_count": 20,
   "id": "e9b6dc55",
   "metadata": {},
   "outputs": [
    {
     "data": {
      "text/plain": [
       "'Yellow'"
      ]
     },
     "execution_count": 20,
     "metadata": {},
     "output_type": "execute_result"
    }
   ],
   "source": [
    "fruits.setdefault('Banana','Yellow')"
   ]
  },
  {
   "cell_type": "code",
   "execution_count": 21,
   "id": "50e31d4e",
   "metadata": {},
   "outputs": [
    {
     "data": {
      "text/plain": [
       "{'apple': 'red',\n",
       " 'Guava': 'Green',\n",
       " 'Mango': 'Yellow',\n",
       " 'Kiwi': 'red',\n",
       " 'Banana': 'Yellow'}"
      ]
     },
     "execution_count": 21,
     "metadata": {},
     "output_type": "execute_result"
    }
   ],
   "source": [
    "fruits"
   ]
  },
  {
   "cell_type": "code",
   "execution_count": 22,
   "id": "7a5da861",
   "metadata": {},
   "outputs": [
    {
     "data": {
      "text/plain": [
       "dict_items([('apple', 'red'), ('Guava', 'Green'), ('Mango', 'Yellow'), ('Kiwi', 'red'), ('Banana', 'Yellow')])"
      ]
     },
     "execution_count": 22,
     "metadata": {},
     "output_type": "execute_result"
    }
   ],
   "source": [
    "fruits.items()"
   ]
  },
  {
   "cell_type": "code",
   "execution_count": 25,
   "id": "59261d98",
   "metadata": {},
   "outputs": [
    {
     "data": {
      "text/plain": [
       "'Yellow'"
      ]
     },
     "execution_count": 25,
     "metadata": {},
     "output_type": "execute_result"
    }
   ],
   "source": [
    "fruits.pop('Mango')"
   ]
  },
  {
   "cell_type": "code",
   "execution_count": 26,
   "id": "b21ba9df",
   "metadata": {},
   "outputs": [
    {
     "data": {
      "text/plain": [
       "dict_keys(['apple', 'Guava', 'Kiwi', 'Banana'])"
      ]
     },
     "execution_count": 26,
     "metadata": {},
     "output_type": "execute_result"
    }
   ],
   "source": [
    "fruits.keys()"
   ]
  },
  {
   "cell_type": "code",
   "execution_count": null,
   "id": "e9857d80",
   "metadata": {},
   "outputs": [],
   "source": []
  }
 ],
 "metadata": {
  "kernelspec": {
   "display_name": "Python 3 (ipykernel)",
   "language": "python",
   "name": "python3"
  },
  "language_info": {
   "codemirror_mode": {
    "name": "ipython",
    "version": 3
   },
   "file_extension": ".py",
   "mimetype": "text/x-python",
   "name": "python",
   "nbconvert_exporter": "python",
   "pygments_lexer": "ipython3",
   "version": "3.11.4"
  }
 },
 "nbformat": 4,
 "nbformat_minor": 5
}
