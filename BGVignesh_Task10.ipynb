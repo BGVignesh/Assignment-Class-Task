{
 "cells": [
  {
   "cell_type": "markdown",
   "id": "609251ce",
   "metadata": {},
   "source": [
    "**Basic List Comprehension:** Write a Python program that uses list comprehension to generate a list of cubes of the first 10 positive integers."
   ]
  },
  {
   "cell_type": "code",
   "execution_count": 7,
   "id": "eecefa5d",
   "metadata": {},
   "outputs": [
    {
     "data": {
      "text/plain": [
       "[1, 8, 27, 64, 125, 216, 343, 512, 729, 1000]"
      ]
     },
     "execution_count": 7,
     "metadata": {},
     "output_type": "execute_result"
    }
   ],
   "source": [
    "[i**3 for i in range(1,11)]"
   ]
  },
  {
   "cell_type": "markdown",
   "id": "aedcbff7",
   "metadata": {},
   "source": [
    "**Filtering with List Comprehension:** Given a list of integers, create a new list using list comprehension that contains only the multiple of 3 and 5 from the original list."
   ]
  },
  {
   "cell_type": "code",
   "execution_count": 10,
   "id": "a75c5aa6",
   "metadata": {},
   "outputs": [
    {
     "data": {
      "text/plain": [
       "[3, 5, 6, 9, 10, 12, 15, 18, 20, 21, 24, 25, 27, 30]"
      ]
     },
     "execution_count": 10,
     "metadata": {},
     "output_type": "execute_result"
    }
   ],
   "source": [
    "list1 = list(range(1,31))\n",
    "\n",
    "[i for i in list1 if (i%3 == 0) or (i%5 == 0)]"
   ]
  },
  {
   "cell_type": "markdown",
   "id": "924e7073",
   "metadata": {},
   "source": [
    "**String Manipulation with List Comprehension:** Given a list of strings, create a new list using list comprehension that contains the lengths of each string."
   ]
  },
  {
   "cell_type": "code",
   "execution_count": 12,
   "id": "c4649804",
   "metadata": {},
   "outputs": [
    {
     "data": {
      "text/plain": [
       "[12, 7, 6, 5, 7]"
      ]
     },
     "execution_count": 12,
     "metadata": {},
     "output_type": "execute_result"
    }
   ],
   "source": [
    "list2 = ['Chandrasekar','vignesh','ramesh','Ganga','Abhinav']\n",
    "\n",
    "[len(i) for i in list2]"
   ]
  },
  {
   "cell_type": "markdown",
   "id": "da8e1c8b",
   "metadata": {},
   "source": [
    "**List Comprehension with Conditionals:** Given a list of numbers, create a new list using list comprehension that contains the squares of even numbers"
   ]
  },
  {
   "cell_type": "code",
   "execution_count": 13,
   "id": "d069c117",
   "metadata": {},
   "outputs": [
    {
     "data": {
      "text/plain": [
       "[4, 16, 36, 64, 100, 144, 196, 256, 324, 400, 484, 576, 676, 784, 900]"
      ]
     },
     "execution_count": 13,
     "metadata": {},
     "output_type": "execute_result"
    }
   ],
   "source": [
    "list1 = list(range(1,31))\n",
    "\n",
    "[i**2 for i in list1 if i%2 == 0]"
   ]
  },
  {
   "cell_type": "markdown",
   "id": "75c753a7",
   "metadata": {},
   "source": [
    "**Pattern Printing**\n",
    "\n",
    "Write a Python program that takes an integer 'n' as input and prints the following pattern:\n",
    "\n",
    "For n = 4, the pattern should look like this:\n",
    "\n",
    "1\n",
    "\n",
    "1 2\n",
    "\n",
    "1 2 3\n",
    "\n",
    "1 2 3 4"
   ]
  },
  {
   "cell_type": "code",
   "execution_count": 70,
   "id": "0d883d33",
   "metadata": {},
   "outputs": [
    {
     "name": "stdout",
     "output_type": "stream",
     "text": [
      "Enter the value: 4\n",
      "1 \n",
      "\n",
      "1 2 \n",
      "\n",
      "1 2 3 \n",
      "\n",
      "1 2 3 4 \n",
      "\n"
     ]
    }
   ],
   "source": [
    "n= int(input(\"Enter the value: \"))\n",
    "for i in range(1,n+1):\n",
    "    for j in range(1,i+1):\n",
    "        print(j,end=' ')\n",
    "    print('\\n')\n",
    "\n"
   ]
  },
  {
   "cell_type": "markdown",
   "id": "6f0683fe",
   "metadata": {},
   "source": [
    "**Multiplication Table**\n",
    "\n",
    "Create a Python program that generates and prints a multiplication table for a given number 'n'. The table should include values from 1 to 10.\n",
    "\n",
    "For example, if n = 5, the output should be:\n",
    "\n",
    "```\n",
    "5 x 1 = 5\n",
    "5 x 2 = 10\n",
    "5 x 3 = 15\n",
    "5 x 4 = 20\n",
    "5 x 5 = 25\n",
    "5 x 6 = 30\n",
    "5 x 7 = 35\n",
    "5 x 8 = 40\n",
    "5 x 9 = 45\n",
    "5 x 10 = 50"
   ]
  },
  {
   "cell_type": "code",
   "execution_count": 78,
   "id": "b32e0332",
   "metadata": {},
   "outputs": [
    {
     "name": "stdout",
     "output_type": "stream",
     "text": [
      "Enter the value: 8\n",
      "8*1 = 8\n",
      "8*2 = 16\n",
      "8*3 = 24\n",
      "8*4 = 32\n",
      "8*5 = 40\n",
      "8*6 = 48\n",
      "8*7 = 56\n",
      "8*8 = 64\n",
      "8*9 = 72\n",
      "8*10 = 80\n"
     ]
    }
   ],
   "source": [
    "n1= int(input(\"Enter the value: \"))\n",
    "\n",
    "for i in range(1,11):\n",
    "    print(f'{n1}*{i} = {i*n1}')"
   ]
  },
  {
   "cell_type": "markdown",
   "id": "2c20a07e",
   "metadata": {},
   "source": [
    "**Star Patterns**\n",
    "\n",
    "Write a Python program that takes an integer 'n' as input and prints the following patterns:\n",
    "\n",
    "a) Right-angled triangle pattern:\n",
    "\n",
    "*\n",
    "**\n",
    "***\n",
    "****\n",
    "*****\n",
    "b) Inverted right-angled triangle pattern:\n",
    "\n",
    "*****\n",
    "****\n",
    "***\n",
    "**\n",
    "*"
   ]
  },
  {
   "cell_type": "code",
   "execution_count": 81,
   "id": "1539dec8",
   "metadata": {},
   "outputs": [
    {
     "name": "stdout",
     "output_type": "stream",
     "text": [
      "Enter the value: 5\n",
      "*\n",
      "**\n",
      "***\n",
      "****\n",
      "*****\n"
     ]
    }
   ],
   "source": [
    "n2= int(input(\"Enter the value: \"))          ## a) Right angled triangle\n",
    "\n",
    "for i in range(1,n2+1):\n",
    "    print('*'*i)"
   ]
  },
  {
   "cell_type": "code",
   "execution_count": 83,
   "id": "d08b8a1c",
   "metadata": {},
   "outputs": [
    {
     "name": "stdout",
     "output_type": "stream",
     "text": [
      "Enter the value: 5\n",
      "*****\n",
      "****\n",
      "***\n",
      "**\n",
      "*\n"
     ]
    }
   ],
   "source": [
    "n2= int(input(\"Enter the value: \"))          ## b) Inverted Right angled triangle\n",
    "\n",
    "for i in range(n2,0,-1):\n",
    "    print('*'*i)"
   ]
  },
  {
   "cell_type": "code",
   "execution_count": 90,
   "id": "f55ceefe",
   "metadata": {},
   "outputs": [
    {
     "name": "stdout",
     "output_type": "stream",
     "text": [
      "Enter the value: 5\n",
      "*\n",
      "**\n",
      "***\n",
      "****\n",
      "*****\n",
      "*****\n",
      "****\n",
      "***\n",
      "**\n",
      "*\n"
     ]
    }
   ],
   "source": [
    "n2= int(input(\"Enter the value: \"))          ## c) both Right angled triangle\n",
    "\n",
    "for i in range(1,n2+1):\n",
    "    print('*'*(i))\n",
    "for j in range(n2,0,-1):\n",
    "    print('*'*j)"
   ]
  },
  {
   "cell_type": "markdown",
   "id": "1f2d7f29",
   "metadata": {},
   "source": [
    "**Number Pyramid**\n",
    "\n",
    "Create a Python program that takes an integer 'n' as input and prints a number pyramid as shown below:\n",
    "\n",
    "For n = 4, the output should be:\n",
    "\n",
    "   1\n",
    "  212\n",
    " 32123\n",
    "4321234"
   ]
  },
  {
   "cell_type": "code",
   "execution_count": null,
   "id": "ccdf1cd5",
   "metadata": {},
   "outputs": [],
   "source": []
  }
 ],
 "metadata": {
  "kernelspec": {
   "display_name": "Python 3 (ipykernel)",
   "language": "python",
   "name": "python3"
  },
  "language_info": {
   "codemirror_mode": {
    "name": "ipython",
    "version": 3
   },
   "file_extension": ".py",
   "mimetype": "text/x-python",
   "name": "python",
   "nbconvert_exporter": "python",
   "pygments_lexer": "ipython3",
   "version": "3.11.4"
  }
 },
 "nbformat": 4,
 "nbformat_minor": 5
}
