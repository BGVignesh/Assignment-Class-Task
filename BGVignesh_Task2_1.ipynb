{
 "cells": [
  {
   "cell_type": "markdown",
   "id": "7550a972",
   "metadata": {},
   "source": [
    "* Write a program that calculates the `sum, difference, product, and quotient` of two numbers: 10 and 5.\n",
    "\n",
    "* Create a program that calculates the `area of a circle` with a radius of 4.5 units."
   ]
  },
  {
   "cell_type": "code",
   "execution_count": 188,
   "id": "2315844d",
   "metadata": {},
   "outputs": [],
   "source": [
    "height = 10\n",
    "width = 5"
   ]
  },
  {
   "cell_type": "code",
   "execution_count": 189,
   "id": "d8d75127",
   "metadata": {},
   "outputs": [
    {
     "name": "stdout",
     "output_type": "stream",
     "text": [
      "15\n"
     ]
    }
   ],
   "source": [
    "print (height + width)         ##sum"
   ]
  },
  {
   "cell_type": "code",
   "execution_count": 190,
   "id": "8bcbe11c",
   "metadata": {},
   "outputs": [
    {
     "name": "stdout",
     "output_type": "stream",
     "text": [
      "5\n"
     ]
    }
   ],
   "source": [
    "print (height - width)        ##Diff"
   ]
  },
  {
   "cell_type": "code",
   "execution_count": 191,
   "id": "8c89a5cf",
   "metadata": {},
   "outputs": [
    {
     "name": "stdout",
     "output_type": "stream",
     "text": [
      "50\n"
     ]
    }
   ],
   "source": [
    "print (height * width)        ##Product"
   ]
  },
  {
   "cell_type": "code",
   "execution_count": 193,
   "id": "2b7c9b3a",
   "metadata": {},
   "outputs": [
    {
     "name": "stdout",
     "output_type": "stream",
     "text": [
      "2\n"
     ]
    }
   ],
   "source": [
    "print (height // width)       ##Quotient"
   ]
  },
  {
   "cell_type": "code",
   "execution_count": 10,
   "id": "b532d3ea",
   "metadata": {},
   "outputs": [],
   "source": [
    "n = 22/7           ##value of pie"
   ]
  },
  {
   "cell_type": "code",
   "execution_count": 11,
   "id": "ea3513b0",
   "metadata": {},
   "outputs": [
    {
     "data": {
      "text/plain": [
       "3.142857142857143"
      ]
     },
     "execution_count": 11,
     "metadata": {},
     "output_type": "execute_result"
    }
   ],
   "source": [
    "n"
   ]
  },
  {
   "cell_type": "code",
   "execution_count": 12,
   "id": "7219c404",
   "metadata": {},
   "outputs": [],
   "source": [
    "r = 4.5          ##radius given"
   ]
  },
  {
   "cell_type": "code",
   "execution_count": 15,
   "id": "55832be2",
   "metadata": {},
   "outputs": [
    {
     "data": {
      "text/plain": [
       "63.64285714285714"
      ]
     },
     "execution_count": 15,
     "metadata": {},
     "output_type": "execute_result"
    }
   ],
   "source": [
    "n*(r**2)          ##area of circle"
   ]
  },
  {
   "cell_type": "markdown",
   "id": "40432c4a",
   "metadata": {},
   "source": [
    "*  Write a program that `swaps` the values of two variables: x with a value of 5 and \"y\" with a value of 10.\n",
    "* Create a program that calculates `compound interest` for a principal amount of $1000, an interest rate of 5%, and a time period of 3 years."
   ]
  },
  {
   "cell_type": "code",
   "execution_count": 156,
   "id": "5f727b1b",
   "metadata": {},
   "outputs": [],
   "source": [
    "x= 5\n",
    "y= 10"
   ]
  },
  {
   "cell_type": "code",
   "execution_count": 157,
   "id": "e10aa426",
   "metadata": {},
   "outputs": [],
   "source": [
    "x,y=y,x                                ##Swapping"
   ]
  },
  {
   "cell_type": "code",
   "execution_count": 158,
   "id": "31bd03ce",
   "metadata": {},
   "outputs": [
    {
     "data": {
      "text/plain": [
       "10"
      ]
     },
     "execution_count": 158,
     "metadata": {},
     "output_type": "execute_result"
    }
   ],
   "source": [
    "x"
   ]
  },
  {
   "cell_type": "code",
   "execution_count": 159,
   "id": "e217debd",
   "metadata": {},
   "outputs": [
    {
     "data": {
      "text/plain": [
       "5"
      ]
     },
     "execution_count": 159,
     "metadata": {},
     "output_type": "execute_result"
    }
   ],
   "source": [
    "y"
   ]
  },
  {
   "cell_type": "markdown",
   "id": "7a3d9fa4",
   "metadata": {},
   "source": [
    "**Compound Interest      formula CI = Amount - Principal"
   ]
  },
  {
   "cell_type": "code",
   "execution_count": 34,
   "id": "ac4c8c24",
   "metadata": {},
   "outputs": [],
   "source": [
    "Principal = 1000\n",
    "rate = 5\n",
    "time = 3"
   ]
  },
  {
   "cell_type": "code",
   "execution_count": 35,
   "id": "8aece194",
   "metadata": {},
   "outputs": [],
   "source": [
    "Amount = Principal*((1+(rate/100))**3)"
   ]
  },
  {
   "cell_type": "code",
   "execution_count": 36,
   "id": "ed2831b7",
   "metadata": {},
   "outputs": [
    {
     "data": {
      "text/plain": [
       "1157.6250000000002"
      ]
     },
     "execution_count": 36,
     "metadata": {},
     "output_type": "execute_result"
    }
   ],
   "source": [
    "Amount"
   ]
  },
  {
   "cell_type": "code",
   "execution_count": 37,
   "id": "a3b07636",
   "metadata": {},
   "outputs": [],
   "source": [
    "CI = Amount - Principal"
   ]
  },
  {
   "cell_type": "code",
   "execution_count": 39,
   "id": "e5c57102",
   "metadata": {},
   "outputs": [
    {
     "data": {
      "text/plain": [
       "157.62500000000023"
      ]
     },
     "execution_count": 39,
     "metadata": {},
     "output_type": "execute_result"
    }
   ],
   "source": [
    "CI                        ##Compound Interest"
   ]
  },
  {
   "cell_type": "markdown",
   "id": "50c69308",
   "metadata": {},
   "source": [
    "* Write a program that `compares` two numbers: 7 and 12, and determines whether the first number is greater than, less than, or equal to the second number.\n",
    "* Create a program that `checks` if a person of age 18 is eligible to vote based on the voting age requirement.(True/False)"
   ]
  },
  {
   "cell_type": "code",
   "execution_count": 47,
   "id": "4ea5d2a3",
   "metadata": {},
   "outputs": [],
   "source": [
    "Num1 = 7\n",
    "Num2 = 12"
   ]
  },
  {
   "cell_type": "code",
   "execution_count": 51,
   "id": "9558be56",
   "metadata": {},
   "outputs": [
    {
     "data": {
      "text/plain": [
       "False"
      ]
     },
     "execution_count": 51,
     "metadata": {},
     "output_type": "execute_result"
    }
   ],
   "source": [
    "Num1 > Num2            ##Greater than"
   ]
  },
  {
   "cell_type": "code",
   "execution_count": 52,
   "id": "3848fa04",
   "metadata": {},
   "outputs": [
    {
     "data": {
      "text/plain": [
       "True"
      ]
     },
     "execution_count": 52,
     "metadata": {},
     "output_type": "execute_result"
    }
   ],
   "source": [
    "Num1 < Num2           ##Less than"
   ]
  },
  {
   "cell_type": "code",
   "execution_count": 53,
   "id": "196971ec",
   "metadata": {},
   "outputs": [
    {
     "data": {
      "text/plain": [
       "False"
      ]
     },
     "execution_count": 53,
     "metadata": {},
     "output_type": "execute_result"
    }
   ],
   "source": [
    "Num1 == Num2         ##Equal too"
   ]
  },
  {
   "cell_type": "code",
   "execution_count": 54,
   "id": "0d637e2a",
   "metadata": {},
   "outputs": [],
   "source": [
    "person_age = 18"
   ]
  },
  {
   "cell_type": "code",
   "execution_count": 56,
   "id": "737e871b",
   "metadata": {},
   "outputs": [],
   "source": [
    "voting_age = 18               ##General voting age is 18"
   ]
  },
  {
   "cell_type": "code",
   "execution_count": 57,
   "id": "3b6158cf",
   "metadata": {},
   "outputs": [
    {
     "data": {
      "text/plain": [
       "True"
      ]
     },
     "execution_count": 57,
     "metadata": {},
     "output_type": "execute_result"
    }
   ],
   "source": [
    "person_age >=voting_age"
   ]
  },
  {
   "cell_type": "markdown",
   "id": "7665952c",
   "metadata": {},
   "source": [
    "* Create a program that `swaps` the values of two integers: `a` with a value of 10 and `b` with a value of 20 using\n",
    " *  bitwise XOR (^) operator.\n",
    " * Logical AND\n",
    " * Logical OR\n",
    " * Logical NOT"
   ]
  },
  {
   "cell_type": "code",
   "execution_count": 121,
   "id": "cf645683",
   "metadata": {},
   "outputs": [],
   "source": [
    "a = 10\n",
    "b = 20"
   ]
  },
  {
   "cell_type": "code",
   "execution_count": 122,
   "id": "6a8e6115",
   "metadata": {},
   "outputs": [],
   "source": [
    "a= a^b\n",
    "b= a^b\n",
    "a = a^b                        ##Bitwise Operator"
   ]
  },
  {
   "cell_type": "code",
   "execution_count": 123,
   "id": "46461227",
   "metadata": {},
   "outputs": [
    {
     "data": {
      "text/plain": [
       "20"
      ]
     },
     "execution_count": 123,
     "metadata": {},
     "output_type": "execute_result"
    }
   ],
   "source": [
    "a"
   ]
  },
  {
   "cell_type": "code",
   "execution_count": 124,
   "id": "a0924982",
   "metadata": {},
   "outputs": [
    {
     "data": {
      "text/plain": [
       "10"
      ]
     },
     "execution_count": 124,
     "metadata": {},
     "output_type": "execute_result"
    }
   ],
   "source": [
    "b"
   ]
  },
  {
   "cell_type": "code",
   "execution_count": 129,
   "id": "cfd89dc1",
   "metadata": {},
   "outputs": [],
   "source": [
    "a= 10\n",
    "b= 20\n",
    "c=a"
   ]
  },
  {
   "cell_type": "code",
   "execution_count": 126,
   "id": "b1a28009",
   "metadata": {},
   "outputs": [],
   "source": [
    "a= a and b\n",
    "b= b and c                  ##Logical And"
   ]
  },
  {
   "cell_type": "code",
   "execution_count": 127,
   "id": "388d31cd",
   "metadata": {},
   "outputs": [
    {
     "data": {
      "text/plain": [
       "20"
      ]
     },
     "execution_count": 127,
     "metadata": {},
     "output_type": "execute_result"
    }
   ],
   "source": [
    "a"
   ]
  },
  {
   "cell_type": "code",
   "execution_count": 128,
   "id": "4ce02c50",
   "metadata": {},
   "outputs": [
    {
     "data": {
      "text/plain": [
       "10"
      ]
     },
     "execution_count": 128,
     "metadata": {},
     "output_type": "execute_result"
    }
   ],
   "source": [
    "b"
   ]
  },
  {
   "cell_type": "code",
   "execution_count": 133,
   "id": "0270e293",
   "metadata": {},
   "outputs": [],
   "source": [
    "a= 10\n",
    "b= 20\n",
    "c= a"
   ]
  },
  {
   "cell_type": "code",
   "execution_count": 134,
   "id": "ee9d0191",
   "metadata": {},
   "outputs": [],
   "source": [
    "a = b or a\n",
    "b = c or b                ##Logical Or"
   ]
  },
  {
   "cell_type": "code",
   "execution_count": 135,
   "id": "11a4c917",
   "metadata": {},
   "outputs": [
    {
     "data": {
      "text/plain": [
       "20"
      ]
     },
     "execution_count": 135,
     "metadata": {},
     "output_type": "execute_result"
    }
   ],
   "source": [
    "a"
   ]
  },
  {
   "cell_type": "code",
   "execution_count": 136,
   "id": "46bd984b",
   "metadata": {},
   "outputs": [
    {
     "data": {
      "text/plain": [
       "10"
      ]
     },
     "execution_count": 136,
     "metadata": {},
     "output_type": "execute_result"
    }
   ],
   "source": [
    "b"
   ]
  },
  {
   "cell_type": "markdown",
   "id": "f6247297",
   "metadata": {},
   "source": [
    "*  Create a Python program that calculates the `area of a rectangle`. Prompt the `user to enter` the length and width of the rectangle, `store them` in variables, and compute the area using the formula:area length width.Finally, `print the calculated area.\n",
    "\n",
    "* Create a Python program that calculates the `average` of three exam scores. Prompt the user to enter the scores, `store them` in variables, calculate the average, and print the result.\n",
    "\n",
    "* Write a Python program that `converts` temperature from Celsius to Fahrenheit. Prompt the user to enter a temperature in Celsius, store it in a variable, and convert it to Fahrenheit using the formula: `Fahrenheit = (Celsius* 9/5)+32`, and print the converted temperature.\n",
    "\n"
   ]
  },
  {
   "cell_type": "code",
   "execution_count": 201,
   "id": "582a1cf3",
   "metadata": {},
   "outputs": [
    {
     "name": "stdout",
     "output_type": "stream",
     "text": [
      "Enter length: 8\n",
      "Enter breath: 3\n",
      "The area of Rectangale is 24\n"
     ]
    }
   ],
   "source": [
    "length = int(input(\"Enter length: \"))\n",
    "breath = int(input(\"Enter breath: \"))\n",
    "area = length * breath\n",
    "print(\"The area of Rectangale is\", area)"
   ]
  },
  {
   "cell_type": "code",
   "execution_count": 202,
   "id": "3c25981b",
   "metadata": {},
   "outputs": [
    {
     "name": "stdout",
     "output_type": "stream",
     "text": [
      "Enter Score1: 90\n",
      "Enter Score2: 85\n",
      "Enter Score3: 88\n",
      "The average score of three exams is 87.66666666666667\n"
     ]
    }
   ],
   "source": [
    "exam1 = int(input(\"Enter Score1: \"))\n",
    "exam2 = int(input(\"Enter Score2: \"))\n",
    "exam3 = int(input(\"Enter Score3: \"))\n",
    "Average = (exam1 + exam2 + exam3)/3\n",
    "print(\"The average score of three exams is\", Average)"
   ]
  },
  {
   "cell_type": "code",
   "execution_count": 206,
   "id": "1cba8563",
   "metadata": {},
   "outputs": [
    {
     "name": "stdout",
     "output_type": "stream",
     "text": [
      "temparature in celsius is: 102.56\n",
      "the converted temparature is 216.608\n"
     ]
    }
   ],
   "source": [
    "celsius = float(input(\"temparature in celsius is: \"))\n",
    "Fahrenheit = (celsius* 9/5)+32\n",
    "print(\"the converted temparature is\", Fahrenheit)"
   ]
  },
  {
   "cell_type": "markdown",
   "id": "815ccff4",
   "metadata": {},
   "source": [
    "\n",
    "\n",
    "\n",
    "\n",
    "\n",
    "\n",
    "\n",
    "* What are the `logical operators` in Python? Explain `each one` with an example.\n",
    "\n",
    "## Logical Operators are : (And, Or, Not)\n",
    "\n",
    "## And operator; it is condition based and value based, during condition based if when both conditions are true then only it is \"True\" or else it is \"False\"\n",
    "\t\tF\tF =\tF\n",
    "\t\tF\tT =\tF\n",
    "\t\tT\tF =\tF\n",
    "\t\tT\tT =\tT\n",
    "\tduring value based it takes last value as output.\n",
    "    \n",
    "## Or Operator; it is condition based and value based, during condition based if when both conditions are Flase then only it is \"False\" or else it is \"Ture\"\n",
    "\t\tF\tF =\tF\n",
    "\t\tF\tT =\tT\n",
    "\t\tT\tF =\tT\n",
    "\t\tT\tT =\tT\n",
    "\tduring value based it takes first value as output.\n",
    "    \n",
    "## Not Operator; it based on single condition, should give only one condition.\n",
    "\n",
    "\n"
   ]
  },
  {
   "cell_type": "code",
   "execution_count": 209,
   "id": "4323a4d9",
   "metadata": {},
   "outputs": [
    {
     "data": {
      "text/plain": [
       "False"
      ]
     },
     "execution_count": 209,
     "metadata": {},
     "output_type": "execute_result"
    }
   ],
   "source": [
    "s = 10\n",
    "k = 20\n",
    "(s<k) and (s==k)                ##example of And on condition based"
   ]
  },
  {
   "cell_type": "code",
   "execution_count": 210,
   "id": "72e43c2b",
   "metadata": {},
   "outputs": [
    {
     "data": {
      "text/plain": [
       "30"
      ]
     },
     "execution_count": 210,
     "metadata": {},
     "output_type": "execute_result"
    }
   ],
   "source": [
    "50 and 80 and 30              ##example of And on value based"
   ]
  },
  {
   "cell_type": "code",
   "execution_count": 211,
   "id": "1985a663",
   "metadata": {},
   "outputs": [
    {
     "data": {
      "text/plain": [
       "True"
      ]
     },
     "execution_count": 211,
     "metadata": {},
     "output_type": "execute_result"
    }
   ],
   "source": [
    "(s<k) or (s==k)              ##example of Or on condition based"
   ]
  },
  {
   "cell_type": "code",
   "execution_count": 212,
   "id": "17244b40",
   "metadata": {},
   "outputs": [
    {
     "data": {
      "text/plain": [
       "50"
      ]
     },
     "execution_count": 212,
     "metadata": {},
     "output_type": "execute_result"
    }
   ],
   "source": [
    "50 or 80 or 30              ##Example of Or Value based"
   ]
  },
  {
   "cell_type": "code",
   "execution_count": 214,
   "id": "fffbb898",
   "metadata": {},
   "outputs": [
    {
     "data": {
      "text/plain": [
       "False"
      ]
     },
     "execution_count": 214,
     "metadata": {},
     "output_type": "execute_result"
    }
   ],
   "source": [
    "not (s<k)                  ##example of Not operator"
   ]
  },
  {
   "cell_type": "markdown",
   "id": "b30a2304",
   "metadata": {},
   "source": [
    "* What are the `membership` operators in Python? Explain their usage with examples\n",
    "\n",
    "### Membership Operators are : \"in\" and \"not in\"\n",
    "## it gives bool output based on given value is \"in or not in\" the string\n"
   ]
  },
  {
   "cell_type": "code",
   "execution_count": 215,
   "id": "8f22f60b",
   "metadata": {},
   "outputs": [
    {
     "data": {
      "text/plain": [
       "True"
      ]
     },
     "execution_count": 215,
     "metadata": {},
     "output_type": "execute_result"
    }
   ],
   "source": [
    "'V' in \"Vignesh\""
   ]
  },
  {
   "cell_type": "code",
   "execution_count": 217,
   "id": "702ff382",
   "metadata": {},
   "outputs": [
    {
     "data": {
      "text/plain": [
       "False"
      ]
     },
     "execution_count": 217,
     "metadata": {},
     "output_type": "execute_result"
    }
   ],
   "source": [
    "'v' in \"Vignesh\"                ##It is case sensitive"
   ]
  },
  {
   "cell_type": "code",
   "execution_count": 218,
   "id": "b90d482c",
   "metadata": {},
   "outputs": [
    {
     "data": {
      "text/plain": [
       "True"
      ]
     },
     "execution_count": 218,
     "metadata": {},
     "output_type": "execute_result"
    }
   ],
   "source": [
    "'J' not in 'Vignesh'"
   ]
  },
  {
   "cell_type": "markdown",
   "id": "c62b0343",
   "metadata": {},
   "source": [
    "* List and briefly explain the `basic data types` available in Python.\n",
    "\n",
    "## Basic datatypes are categorised into 2: Numerical and Non-numerical. \n",
    "## Float(with decimals), Interger(numbers with no decimals), and complex numbers(combo of int+imajinary number) comes under Numerical. \n",
    "## Bool and String comes under Non-numerical\n",
    "\n"
   ]
  },
  {
   "cell_type": "markdown",
   "id": "e97db065",
   "metadata": {},
   "source": [
    "* Write a Python code snippet that `assigns a value to a variable `and determines its `data type` using the type() function."
   ]
  },
  {
   "cell_type": "code",
   "execution_count": 219,
   "id": "19fb9dd5",
   "metadata": {},
   "outputs": [
    {
     "data": {
      "text/plain": [
       "str"
      ]
     },
     "execution_count": 219,
     "metadata": {},
     "output_type": "execute_result"
    }
   ],
   "source": [
    "Innomatics_area = \"Kukatpally\"\n",
    "type(Innomatics_area)"
   ]
  },
  {
   "cell_type": "code",
   "execution_count": 220,
   "id": "04ff13f3",
   "metadata": {},
   "outputs": [
    {
     "data": {
      "text/plain": [
       "int"
      ]
     },
     "execution_count": 220,
     "metadata": {},
     "output_type": "execute_result"
    }
   ],
   "source": [
    "class_strength = 50\n",
    "type(class_strength)"
   ]
  },
  {
   "cell_type": "code",
   "execution_count": null,
   "id": "37ee8c21",
   "metadata": {},
   "outputs": [],
   "source": []
  }
 ],
 "metadata": {
  "kernelspec": {
   "display_name": "Python 3 (ipykernel)",
   "language": "python",
   "name": "python3"
  },
  "language_info": {
   "codemirror_mode": {
    "name": "ipython",
    "version": 3
   },
   "file_extension": ".py",
   "mimetype": "text/x-python",
   "name": "python",
   "nbconvert_exporter": "python",
   "pygments_lexer": "ipython3",
   "version": "3.11.4"
  }
 },
 "nbformat": 4,
 "nbformat_minor": 5
}
