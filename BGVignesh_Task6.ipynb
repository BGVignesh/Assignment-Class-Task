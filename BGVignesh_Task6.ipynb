{
 "cells": [
  {
   "cell_type": "markdown",
   "id": "81a1ece8",
   "metadata": {},
   "source": [
    "**Assignment Task 1: Tuple Basics Create a Python tuple containing the names of your favorite fruits. Write a Python program to print each fruit name from the tuple.**"
   ]
  },
  {
   "cell_type": "code",
   "execution_count": 1,
   "id": "00daa45c",
   "metadata": {},
   "outputs": [
    {
     "data": {
      "text/plain": [
       "('Guava', 'Jack', 'star', 'Strawberry')"
      ]
     },
     "execution_count": 1,
     "metadata": {},
     "output_type": "execute_result"
    }
   ],
   "source": [
    "fruits = ('Guava','Jack', 'star','Strawberry')\n",
    "fruits"
   ]
  },
  {
   "cell_type": "code",
   "execution_count": 9,
   "id": "c0a86c87",
   "metadata": {},
   "outputs": [
    {
     "name": "stdout",
     "output_type": "stream",
     "text": [
      "1st fav fruit is:  Guava\n",
      "2nd fav fruit is:  Jack\n",
      "3rd fav fruit is:  star\n",
      "4th fav fruit is:  Strawberry\n"
     ]
    }
   ],
   "source": [
    "print('1st fav fruit is: ', fruits[0])\n",
    "print('2nd fav fruit is: ',fruits[1])\n",
    "print('3rd fav fruit is: ',fruits[2])\n",
    "print('4th fav fruit is: ',fruits[3])"
   ]
  },
  {
   "cell_type": "markdown",
   "id": "eaeb5d56",
   "metadata": {},
   "source": [
    "**Assignment Task 2: Tuple Operations Given two tuples, write a Python program to concatenate them into a single tuple and then find the length of the resulting tuple.**"
   ]
  },
  {
   "cell_type": "code",
   "execution_count": 13,
   "id": "af89ef15",
   "metadata": {},
   "outputs": [
    {
     "data": {
      "text/plain": [
       "(1, 3, 5, 7, 9, 2, 4, 6, 8, 10)"
      ]
     },
     "execution_count": 13,
     "metadata": {},
     "output_type": "execute_result"
    }
   ],
   "source": [
    "odd = (1,3,5,7,9)\n",
    "even = (2,4, 6, 8, 10)\n",
    "\n",
    "prime = odd + even\n",
    "prime"
   ]
  },
  {
   "cell_type": "code",
   "execution_count": 14,
   "id": "5e135498",
   "metadata": {},
   "outputs": [
    {
     "data": {
      "text/plain": [
       "10"
      ]
     },
     "execution_count": 14,
     "metadata": {},
     "output_type": "execute_result"
    }
   ],
   "source": [
    "len(prime)"
   ]
  },
  {
   "cell_type": "code",
   "execution_count": 15,
   "id": "1f35766f",
   "metadata": {},
   "outputs": [
    {
     "data": {
      "text/plain": [
       "tuple"
      ]
     },
     "execution_count": 15,
     "metadata": {},
     "output_type": "execute_result"
    }
   ],
   "source": [
    "type(prime)"
   ]
  },
  {
   "cell_type": "markdown",
   "id": "4ef7b25c",
   "metadata": {},
   "source": [
    "**Assignment Task 3: Set Creation Create a Python set containing the first 10 even numbers (2, 4, 6, ...). Write a program to display this set.**"
   ]
  },
  {
   "cell_type": "code",
   "execution_count": 19,
   "id": "c2ecdcad",
   "metadata": {},
   "outputs": [
    {
     "data": {
      "text/plain": [
       "{2, 4, 6, 8, 10, 12, 14, 16, 18, 20}"
      ]
     },
     "execution_count": 19,
     "metadata": {},
     "output_type": "execute_result"
    }
   ],
   "source": [
    "even_set = set(range(2,21,2))\n",
    "even_set"
   ]
  },
  {
   "cell_type": "markdown",
   "id": "2f542eeb",
   "metadata": {},
   "source": [
    "**Assignment Task 4: Set Operations Given two sets, write a Python program to find the union, intersection, and difference of these sets.**"
   ]
  },
  {
   "cell_type": "code",
   "execution_count": 24,
   "id": "1eb6abf3",
   "metadata": {},
   "outputs": [],
   "source": [
    "sports_bikes = {'CBR','Ninja','KTM','R15'}\n",
    "Adventure_bikes = {'Himalayan', 'GS310', 'Vstrom', 'KTM'}"
   ]
  },
  {
   "cell_type": "code",
   "execution_count": 25,
   "id": "474bd13d",
   "metadata": {},
   "outputs": [
    {
     "data": {
      "text/plain": [
       "{'CBR', 'GS310', 'Himalayan', 'KTM', 'Ninja', 'R15', 'Vstrom'}"
      ]
     },
     "execution_count": 25,
     "metadata": {},
     "output_type": "execute_result"
    }
   ],
   "source": [
    "all_bikes = sports_bikes.union(Adventure_bikes)          ##Union\n",
    "all_bikes "
   ]
  },
  {
   "cell_type": "code",
   "execution_count": 26,
   "id": "6af6f8f7",
   "metadata": {},
   "outputs": [
    {
     "data": {
      "text/plain": [
       "{'KTM'}"
      ]
     },
     "execution_count": 26,
     "metadata": {},
     "output_type": "execute_result"
    }
   ],
   "source": [
    "common_bikes = sports_bikes.intersection(Adventure_bikes)  ##Intersection\n",
    "common_bikes"
   ]
  },
  {
   "cell_type": "code",
   "execution_count": 29,
   "id": "f9424171",
   "metadata": {},
   "outputs": [
    {
     "data": {
      "text/plain": [
       "{'CBR', 'Ninja', 'R15'}"
      ]
     },
     "execution_count": 29,
     "metadata": {},
     "output_type": "execute_result"
    }
   ],
   "source": [
    "sports = sports_bikes.difference(Adventure_bikes)  ## Diff WRT sports bikes\n",
    "sports"
   ]
  },
  {
   "cell_type": "code",
   "execution_count": 30,
   "id": "d04a1d33",
   "metadata": {},
   "outputs": [
    {
     "data": {
      "text/plain": [
       "{'GS310', 'Himalayan', 'Vstrom'}"
      ]
     },
     "execution_count": 30,
     "metadata": {},
     "output_type": "execute_result"
    }
   ],
   "source": [
    "Adventure = Adventure_bikes.difference(sports_bikes)   ## Diff WRT Adventure bikes\n",
    "Adventure"
   ]
  },
  {
   "cell_type": "markdown",
   "id": "a3742931",
   "metadata": {},
   "source": [
    "**Assignment Task 5: Tuple and Set Conversion Write a Python program that takes a tuple of integers and converts it into a set. Then, find and print the maximum and minimum values from the set.**"
   ]
  },
  {
   "cell_type": "code",
   "execution_count": 36,
   "id": "393213a0",
   "metadata": {},
   "outputs": [
    {
     "data": {
      "text/plain": [
       "(19, 27, 43, 14, 85, 62)"
      ]
     },
     "execution_count": 36,
     "metadata": {},
     "output_type": "execute_result"
    }
   ],
   "source": [
    "integers = (19, 27, 43, 14, 85, 62)\n",
    "integers"
   ]
  },
  {
   "cell_type": "code",
   "execution_count": 37,
   "id": "31e17ea8",
   "metadata": {},
   "outputs": [
    {
     "data": {
      "text/plain": [
       "tuple"
      ]
     },
     "execution_count": 37,
     "metadata": {},
     "output_type": "execute_result"
    }
   ],
   "source": [
    "type(integers)"
   ]
  },
  {
   "cell_type": "code",
   "execution_count": 38,
   "id": "975eaee2",
   "metadata": {},
   "outputs": [
    {
     "data": {
      "text/plain": [
       "{14, 19, 27, 43, 62, 85}"
      ]
     },
     "execution_count": 38,
     "metadata": {},
     "output_type": "execute_result"
    }
   ],
   "source": [
    "set_int = set(integers)\n",
    "set_int"
   ]
  },
  {
   "cell_type": "code",
   "execution_count": 39,
   "id": "07898ae5",
   "metadata": {},
   "outputs": [
    {
     "data": {
      "text/plain": [
       "set"
      ]
     },
     "execution_count": 39,
     "metadata": {},
     "output_type": "execute_result"
    }
   ],
   "source": [
    "type(set_int)"
   ]
  },
  {
   "cell_type": "code",
   "execution_count": 42,
   "id": "fea7ebbf",
   "metadata": {},
   "outputs": [
    {
     "name": "stdout",
     "output_type": "stream",
     "text": [
      "the maximum value of the set is:  85\n"
     ]
    }
   ],
   "source": [
    "print(\"the maximum value of the set is: \", max(set_int))         ## Max"
   ]
  },
  {
   "cell_type": "code",
   "execution_count": 43,
   "id": "e159e3f8",
   "metadata": {},
   "outputs": [
    {
     "name": "stdout",
     "output_type": "stream",
     "text": [
      "the minimum value of the set is:  14\n"
     ]
    }
   ],
   "source": [
    "print(\"the minimum value of the set is: \", min(set_int))          ##Min"
   ]
  },
  {
   "cell_type": "markdown",
   "id": "317ef612",
   "metadata": {},
   "source": [
    "**Assignment Task 6: Tuple Immutability Explain the concept of immutability in Python tuples with examples. Discuss why tuples are considered immutable data structures.**"
   ]
  },
  {
   "cell_type": "code",
   "execution_count": 44,
   "id": "8ca693df",
   "metadata": {},
   "outputs": [
    {
     "data": {
      "text/plain": [
       "('Cannot', 'add', 'new', 'element', 'in tuple')"
      ]
     },
     "execution_count": 44,
     "metadata": {},
     "output_type": "execute_result"
    }
   ],
   "source": [
    "immutable = ('Cannot', 'add', 'new' , 'element', 'in tuple')\n",
    "immutable\n",
    "## there are only to functions for tuple i.e; count and index"
   ]
  },
  {
   "cell_type": "code",
   "execution_count": 46,
   "id": "a8573531",
   "metadata": {},
   "outputs": [
    {
     "ename": "AttributeError",
     "evalue": "'tuple' object has no attribute 'append'",
     "output_type": "error",
     "traceback": [
      "\u001b[1;31m---------------------------------------------------------------------------\u001b[0m",
      "\u001b[1;31mAttributeError\u001b[0m                            Traceback (most recent call last)",
      "Cell \u001b[1;32mIn[46], line 1\u001b[0m\n\u001b[1;32m----> 1\u001b[0m immutable\u001b[38;5;241m.\u001b[39mappend(\u001b[38;5;124m'\u001b[39m\u001b[38;5;124madding element\u001b[39m\u001b[38;5;124m'\u001b[39m)\n",
      "\u001b[1;31mAttributeError\u001b[0m: 'tuple' object has no attribute 'append'"
     ]
    }
   ],
   "source": [
    "immutable.append('adding element')            \n",
    "## because \"append\" or \"add\" or \"insert\" functions are not part of tuple hence it shows error"
   ]
  },
  {
   "cell_type": "markdown",
   "id": "e94faaa4",
   "metadata": {},
   "source": [
    "**Assignment Task 7: Set Operations and Methods Write a Python program that takes a set of numbers and performs the following operations:**\n",
    "\n",
    "Add a new number to the set.\n",
    "\n",
    "Remove a number from the set.\n",
    "\n",
    "Check if a specific number is in the set.\n",
    "\n",
    "Find the size of the set."
   ]
  },
  {
   "cell_type": "code",
   "execution_count": 47,
   "id": "87df6f22",
   "metadata": {},
   "outputs": [
    {
     "data": {
      "text/plain": [
       "{1020, 1054, 1112, 3636, 7704}"
      ]
     },
     "execution_count": 47,
     "metadata": {},
     "output_type": "execute_result"
    }
   ],
   "source": [
    "id_num = {1020 , 1112, 1054 , 3636, 7704}\n",
    "id_num"
   ]
  },
  {
   "cell_type": "code",
   "execution_count": 48,
   "id": "12034c87",
   "metadata": {},
   "outputs": [
    {
     "data": {
      "text/plain": [
       "{1020, 1054, 1112, 3636, 7704, 9842}"
      ]
     },
     "execution_count": 48,
     "metadata": {},
     "output_type": "execute_result"
    }
   ],
   "source": [
    "id_num.add(9842)               ## new number added in last\n",
    "id_num"
   ]
  },
  {
   "cell_type": "code",
   "execution_count": 49,
   "id": "d8ea61ad",
   "metadata": {},
   "outputs": [
    {
     "data": {
      "text/plain": [
       "{1020, 1112, 3636, 7704, 9842}"
      ]
     },
     "execution_count": 49,
     "metadata": {},
     "output_type": "execute_result"
    }
   ],
   "source": [
    "id_num.remove(1054)         ## one number is removed\n",
    "id_num"
   ]
  },
  {
   "cell_type": "code",
   "execution_count": 53,
   "id": "f3138d5c",
   "metadata": {},
   "outputs": [
    {
     "data": {
      "text/plain": [
       "False"
      ]
     },
     "execution_count": 53,
     "metadata": {},
     "output_type": "execute_result"
    }
   ],
   "source": [
    "1054 in id_num          ## checking if number is there or not"
   ]
  },
  {
   "cell_type": "code",
   "execution_count": 54,
   "id": "84780b4d",
   "metadata": {},
   "outputs": [
    {
     "data": {
      "text/plain": [
       "5"
      ]
     },
     "execution_count": 54,
     "metadata": {},
     "output_type": "execute_result"
    }
   ],
   "source": [
    "len(id_num)           ## size of set"
   ]
  },
  {
   "cell_type": "markdown",
   "id": "4b78bb9a",
   "metadata": {},
   "source": [
    "**Assignment Task 8: Tuple Slicing Given a tuple of 10 elements, write a Python program to print the elements from the 3rd to the 7th position using slicing.**"
   ]
  },
  {
   "cell_type": "code",
   "execution_count": 62,
   "id": "595f6586",
   "metadata": {},
   "outputs": [
    {
     "data": {
      "text/plain": [
       "(3, 7, 11, 15, 19, 23, 27, 31, 35, 39)"
      ]
     },
     "execution_count": 62,
     "metadata": {},
     "output_type": "execute_result"
    }
   ],
   "source": [
    "elements = tuple(range(3, 40, 4))\n",
    "elements"
   ]
  },
  {
   "cell_type": "code",
   "execution_count": 63,
   "id": "9ffb4fbf",
   "metadata": {},
   "outputs": [
    {
     "data": {
      "text/plain": [
       "10"
      ]
     },
     "execution_count": 63,
     "metadata": {},
     "output_type": "execute_result"
    }
   ],
   "source": [
    "len(elements)"
   ]
  },
  {
   "cell_type": "code",
   "execution_count": 64,
   "id": "c9f163d8",
   "metadata": {},
   "outputs": [
    {
     "data": {
      "text/plain": [
       "(15, 19, 23, 27, 31)"
      ]
     },
     "execution_count": 64,
     "metadata": {},
     "output_type": "execute_result"
    }
   ],
   "source": [
    "elements[3:8:1]                  ## 3rd to 7th position"
   ]
  },
  {
   "cell_type": "markdown",
   "id": "d2dd39ed",
   "metadata": {},
   "source": [
    "**Assignment Task 9: Set Operations with Lists Create a Python list with duplicate elements and convert it into a set to remove duplicates. Then, write a program to count how many duplicates were removed.**"
   ]
  },
  {
   "cell_type": "code",
   "execution_count": 66,
   "id": "42ea184d",
   "metadata": {},
   "outputs": [
    {
     "name": "stdout",
     "output_type": "stream",
     "text": [
      "['Q', 'W', 'E', 'R', 'T', 'W', 'Y', 'U', 'I', 'E']\n",
      "10\n"
     ]
    }
   ],
   "source": [
    "lis = ['Q','W','E','R','T','W','Y','U','I','E']     ## A list of elements with length 10\n",
    "print(lis)\n",
    "print(len(lis))"
   ]
  },
  {
   "cell_type": "code",
   "execution_count": 67,
   "id": "2285c573",
   "metadata": {},
   "outputs": [
    {
     "name": "stdout",
     "output_type": "stream",
     "text": [
      "{'Y', 'U', 'E', 'W', 'I', 'T', 'Q', 'R'}\n",
      "8\n"
     ]
    }
   ],
   "source": [
    "sil = set(lis)            ##list converted to set and duplicates were removed hence length is 8\n",
    "print(sil)\n",
    "print(len(sil))"
   ]
  },
  {
   "cell_type": "code",
   "execution_count": 68,
   "id": "eca9a87c",
   "metadata": {},
   "outputs": [
    {
     "data": {
      "text/plain": [
       "2"
      ]
     },
     "execution_count": 68,
     "metadata": {},
     "output_type": "execute_result"
    }
   ],
   "source": [
    "len(lis) - len(sil)         ## this means there are 2 duplicates"
   ]
  },
  {
   "cell_type": "markdown",
   "id": "97a5f693",
   "metadata": {},
   "source": [
    "**Assignment Task 10: Tuple and Set Combinations Create a tuple containing the names of your friend's favorite movies and a set containing the names of your favorite movies. Write a Python program to find and display common elements (movies that feature your**"
   ]
  },
  {
   "cell_type": "code",
   "execution_count": 70,
   "id": "f4b37276",
   "metadata": {},
   "outputs": [
    {
     "name": "stdout",
     "output_type": "stream",
     "text": [
      "this is tuple:  ('Haunted', 'Conjuring', 'Marvel', 'IronMan', 'Avatar')\n",
      "this is set:  {'Pataan', 'KGF', 'FamilyMan', 'IronMan', 'Bahubali'}\n"
     ]
    }
   ],
   "source": [
    "friends_fav = ('Haunted', 'Conjuring', 'Marvel', 'IronMan', 'Avatar')\n",
    "my_fav = {'IronMan', 'KGF', 'FamilyMan', 'Pataan', 'Bahubali'}\n",
    "print(\"this is tuple: \", friends_fav)\n",
    "print(\"this is set: \", my_fav)"
   ]
  },
  {
   "cell_type": "code",
   "execution_count": 73,
   "id": "e9abf93a",
   "metadata": {},
   "outputs": [
    {
     "name": "stdout",
     "output_type": "stream",
     "text": [
      "After convertion this is set: {'Avatar', 'Haunted', 'Conjuring', 'Marvel', 'IronMan'}\n"
     ]
    }
   ],
   "source": [
    "converted = set(friends_fav)\n",
    "print(\"After convertion this is set:\", converted)"
   ]
  },
  {
   "cell_type": "code",
   "execution_count": 74,
   "id": "824856dc",
   "metadata": {},
   "outputs": [
    {
     "name": "stdout",
     "output_type": "stream",
     "text": [
      "Displaying the common elements:  {'IronMan'}\n"
     ]
    }
   ],
   "source": [
    "print(\"Displaying the common elements: \", my_fav.intersection(converted))"
   ]
  }
 ],
 "metadata": {
  "kernelspec": {
   "display_name": "Python 3 (ipykernel)",
   "language": "python",
   "name": "python3"
  },
  "language_info": {
   "codemirror_mode": {
    "name": "ipython",
    "version": 3
   },
   "file_extension": ".py",
   "mimetype": "text/x-python",
   "name": "python",
   "nbconvert_exporter": "python",
   "pygments_lexer": "ipython3",
   "version": "3.11.4"
  }
 },
 "nbformat": 4,
 "nbformat_minor": 5
}
