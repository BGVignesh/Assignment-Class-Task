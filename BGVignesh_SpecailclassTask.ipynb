{
 "cells": [
  {
   "cell_type": "markdown",
   "id": "fc9a1d71",
   "metadata": {},
   "source": [
    "\n",
    "1)what are the fruits available in basket\n",
    "\n",
    "2)write a program if I purchase 3 apples and 2 oranges\n",
    "\n",
    "3)add \"fruit\" for every available fruit in basket\n",
    "\n",
    "4)find the average price of fruits\n",
    "\n",
    "5)Which fruits is containing letters less than 5 characters"
   ]
  },
  {
   "cell_type": "code",
   "execution_count": 7,
   "id": "a41962d8",
   "metadata": {},
   "outputs": [
    {
     "data": {
      "text/plain": [
       "{'apple': 50, 'mango': 60, 'banana': 70, 'kiwi': 80, 'orange': 90}"
      ]
     },
     "execution_count": 7,
     "metadata": {},
     "output_type": "execute_result"
    }
   ],
   "source": [
    "price = [50, 60, 70, 80, 90]\n",
    "fruits = ['apple','mango','banana','kiwi','orange']\n",
    "basket = dict(zip(fruits,price))\n",
    "basket"
   ]
  },
  {
   "cell_type": "code",
   "execution_count": 2,
   "id": "daaed2f4",
   "metadata": {},
   "outputs": [
    {
     "name": "stdout",
     "output_type": "stream",
     "text": [
      "Available fruits in basket:  apple\n",
      "Available fruits in basket:  mango\n",
      "Available fruits in basket:  banana\n",
      "Available fruits in basket:  kiwi\n",
      "Available fruits in basket:  orange\n"
     ]
    }
   ],
   "source": [
    "for i in basket.keys():           ## Ques 1\n",
    "    print(\"Available fruits in basket: \", i)"
   ]
  },
  {
   "cell_type": "code",
   "execution_count": 3,
   "id": "2d000d61",
   "metadata": {},
   "outputs": [
    {
     "name": "stdout",
     "output_type": "stream",
     "text": [
      "Price of 3 apples is:  150\n",
      "Price of 2 oranges is:  180\n",
      "Total price of 3 apples and 2 oranges is:  330\n"
     ]
    }
   ],
   "source": [
    "for i,j in basket.items():          ## Ques 2       ****3 Apples and 2 Oranges is 330******\n",
    "    if (i == 'apple'):\n",
    "        j1 = j*3\n",
    "        print(\"Price of 3 apples is: \", j*3)\n",
    "for i,j in basket.items():\n",
    "    if (i == 'orange'):\n",
    "        j2 = j*2\n",
    "        print(\"Price of 2 oranges is: \", j*2)\n",
    "print(\"Total price of 3 apples and 2 oranges is: \",j1 + j2)"
   ]
  },
  {
   "cell_type": "code",
   "execution_count": 4,
   "id": "4e20e616",
   "metadata": {},
   "outputs": [
    {
     "name": "stdout",
     "output_type": "stream",
     "text": [
      "apple fruit\n",
      "mango fruit\n",
      "banana fruit\n",
      "kiwi fruit\n",
      "orange fruit\n"
     ]
    }
   ],
   "source": [
    "for i in basket.keys():             ## Ques 3\n",
    "    print(i + ' fruit')"
   ]
  },
  {
   "cell_type": "code",
   "execution_count": 1,
   "id": "0fe5c91e",
   "metadata": {},
   "outputs": [
    {
     "data": {
      "text/plain": [
       "{'apple': 50, 'mango': 60, 'banana': 70, 'kiwi': 80, 'orange': 90}"
      ]
     },
     "execution_count": 1,
     "metadata": {},
     "output_type": "execute_result"
    }
   ],
   "source": [
    "price = [50, 60, 70, 80, 90]\n",
    "fruits = ['apple','mango','banana','kiwi','orange']\n",
    "basket = dict(zip(fruits,price))\n",
    "basket"
   ]
  },
  {
   "cell_type": "code",
   "execution_count": 33,
   "id": "697af8de",
   "metadata": {},
   "outputs": [
    {
     "name": "stdout",
     "output_type": "stream",
     "text": [
      "70.0\n"
     ]
    }
   ],
   "source": [
    "i = sum(basket.values())                ## Ques 4    without for loop\n",
    "j = len(basket)\n",
    "avg = i/j\n",
    "print(avg)"
   ]
  },
  {
   "cell_type": "code",
   "execution_count": 7,
   "id": "fa688457",
   "metadata": {},
   "outputs": [
    {
     "name": "stdout",
     "output_type": "stream",
     "text": [
      "70.0\n"
     ]
    }
   ],
   "source": [
    "total = 0                             ## Ques 4 using for loop\n",
    "for i in basket.values():\n",
    "    total = total + i\n",
    "    length = len(basket)\n",
    "    avg = total/length\n",
    "print(avg)"
   ]
  },
  {
   "cell_type": "code",
   "execution_count": 32,
   "id": "1dc4d0e2",
   "metadata": {},
   "outputs": [
    {
     "name": "stdout",
     "output_type": "stream",
     "text": [
      "kiwi\n"
     ]
    }
   ],
   "source": [
    "for i in basket.keys():          ## Ques 5\n",
    "    if len(i) < 5:\n",
    "        print (i)    "
   ]
  },
  {
   "cell_type": "code",
   "execution_count": null,
   "id": "b9e5a05f",
   "metadata": {},
   "outputs": [],
   "source": []
  }
 ],
 "metadata": {
  "kernelspec": {
   "display_name": "Python 3 (ipykernel)",
   "language": "python",
   "name": "python3"
  },
  "language_info": {
   "codemirror_mode": {
    "name": "ipython",
    "version": 3
   },
   "file_extension": ".py",
   "mimetype": "text/x-python",
   "name": "python",
   "nbconvert_exporter": "python",
   "pygments_lexer": "ipython3",
   "version": "3.11.4"
  }
 },
 "nbformat": 4,
 "nbformat_minor": 5
}
