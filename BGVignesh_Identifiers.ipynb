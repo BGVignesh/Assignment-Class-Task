{
 "cells": [
  {
   "cell_type": "markdown",
   "id": "5efd181d",
   "metadata": {},
   "source": [
    "# Check the valid Identifiers and invalid identifers using Python"
   ]
  },
  {
   "cell_type": "markdown",
   "id": "aebe5a40",
   "metadata": {},
   "source": [
    "1. **Run all the identifiers and seprate valid and Invalid Identifiers?**\n",
    "\n",
    "2. **Why Python treating them as invalid Identifers.Explain?**"
   ]
  },
  {
   "cell_type": "markdown",
   "id": "77c112d3",
   "metadata": {},
   "source": [
    "* my_variable = 25\n",
    "\n",
    "**Valid\n",
    "\n",
    "* counter = 40.7\n",
    "\n",
    "**Valid\n",
    "\n",
    "* _total = \"Hello\"\n",
    "\n",
    "**Valid\n",
    "\n",
    " - 123abc   = 34\n",
    " \n",
    "**Invalid as Identifier cannot start with numeric\n",
    " \n",
    " - my variable   =6.7\n",
    " \n",
    " **Invalid as the variable name has space in between and only underscore is accepted\n",
    " \n",
    " - @count  = \"hi\"      \n",
    " \n",
    " **Invalid as it cannot start with any special character other than underscore or a-z or A-Z\n",
    " \n",
    " - for   = \"True\"\n",
    " \n",
    " **Invalid as character name cannot be a keyword\n",
    " \n",
    "* Name123 = 136\n",
    "\n",
    "**Valid\n",
    "\n",
    "* myFunction = True\n",
    "\n",
    "**Invalid as True is Bool and keyword\n",
    "\n",
    "* _data = False\n",
    "\n",
    "**Invalid as True is Bool and keyword\n",
    "\n",
    "- if_condition? = \"Innomatics\"\n",
    "\n",
    "**Invalid due to special character '?'\n",
    "\n",
    "- class = \"Hyderabad\"\n",
    "\n",
    "**Invalid as 'class' is keyword"
   ]
  },
  {
   "cell_type": "markdown",
   "id": "35c32a6f",
   "metadata": {},
   "source": [
    "### Use different identifiers and assign the below values"
   ]
  },
  {
   "cell_type": "markdown",
   "id": "d606e5ac",
   "metadata": {},
   "source": [
    "10\n",
    "\n",
    "-5\n",
    "\n",
    "3.14159\n",
    "\n",
    "-0.12345\n",
    "\n",
    "1000\n",
    "\n",
    "\"Hello, World!\"\n",
    "\n",
    "\"Python\"\n",
    "\n",
    "\"I am learning\"\n",
    "\n",
    "\"Text type\"\n",
    "\n",
    "\"String\"\n",
    "\n",
    "True\n",
    "\n",
    "False\n",
    "\n",
    "True\n",
    "\n",
    "False\n",
    "\n",
    "True\n",
    "\n"
   ]
  },
  {
   "cell_type": "code",
   "execution_count": 1,
   "id": "a8ce7a79",
   "metadata": {},
   "outputs": [],
   "source": [
    "add = 10"
   ]
  },
  {
   "cell_type": "code",
   "execution_count": 2,
   "id": "f797ee85",
   "metadata": {},
   "outputs": [
    {
     "data": {
      "text/plain": [
       "10"
      ]
     },
     "execution_count": 2,
     "metadata": {},
     "output_type": "execute_result"
    }
   ],
   "source": [
    "add"
   ]
  },
  {
   "cell_type": "code",
   "execution_count": 4,
   "id": "0dbf08e2",
   "metadata": {},
   "outputs": [],
   "source": [
    "Minus_of_5 = -5"
   ]
  },
  {
   "cell_type": "code",
   "execution_count": 5,
   "id": "25397d5c",
   "metadata": {},
   "outputs": [
    {
     "data": {
      "text/plain": [
       "-5"
      ]
     },
     "execution_count": 5,
     "metadata": {},
     "output_type": "execute_result"
    }
   ],
   "source": [
    "Minus_of_5"
   ]
  },
  {
   "cell_type": "code",
   "execution_count": 6,
   "id": "2f320bf6",
   "metadata": {},
   "outputs": [],
   "source": [
    "_decimal = 3.14159"
   ]
  },
  {
   "cell_type": "code",
   "execution_count": 7,
   "id": "ae0e6bd5",
   "metadata": {},
   "outputs": [
    {
     "data": {
      "text/plain": [
       "3.14159"
      ]
     },
     "execution_count": 7,
     "metadata": {},
     "output_type": "execute_result"
    }
   ],
   "source": [
    "_decimal"
   ]
  },
  {
   "cell_type": "code",
   "execution_count": 8,
   "id": "c93ea320",
   "metadata": {},
   "outputs": [],
   "source": [
    "Negative_float = -0.12345"
   ]
  },
  {
   "cell_type": "code",
   "execution_count": 9,
   "id": "95c579a7",
   "metadata": {},
   "outputs": [
    {
     "data": {
      "text/plain": [
       "-0.12345"
      ]
     },
     "execution_count": 9,
     "metadata": {},
     "output_type": "execute_result"
    }
   ],
   "source": [
    "Negative_float"
   ]
  },
  {
   "cell_type": "code",
   "execution_count": 10,
   "id": "76878b92",
   "metadata": {},
   "outputs": [],
   "source": [
    "FIRST_4_digit_Value = 1000"
   ]
  },
  {
   "cell_type": "code",
   "execution_count": 11,
   "id": "6fc8c5a7",
   "metadata": {},
   "outputs": [
    {
     "data": {
      "text/plain": [
       "1000"
      ]
     },
     "execution_count": 11,
     "metadata": {},
     "output_type": "execute_result"
    }
   ],
   "source": [
    "FIRST_4_digit_Value"
   ]
  },
  {
   "cell_type": "code",
   "execution_count": 12,
   "id": "91dd03ad",
   "metadata": {},
   "outputs": [],
   "source": [
    "WelcomeNote = \"Hello, World!\""
   ]
  },
  {
   "cell_type": "code",
   "execution_count": 13,
   "id": "32a36c7d",
   "metadata": {},
   "outputs": [
    {
     "data": {
      "text/plain": [
       "'Hello, World!'"
      ]
     },
     "execution_count": 13,
     "metadata": {},
     "output_type": "execute_result"
    }
   ],
   "source": [
    "WelcomeNote"
   ]
  },
  {
   "cell_type": "code",
   "execution_count": 14,
   "id": "0570dfdd",
   "metadata": {},
   "outputs": [],
   "source": [
    "Program123 = \"Python\""
   ]
  },
  {
   "cell_type": "code",
   "execution_count": 15,
   "id": "ac2e3fb6",
   "metadata": {},
   "outputs": [
    {
     "data": {
      "text/plain": [
       "'Python'"
      ]
     },
     "execution_count": 15,
     "metadata": {},
     "output_type": "execute_result"
    }
   ],
   "source": [
    "Program123"
   ]
  },
  {
   "cell_type": "code",
   "execution_count": 16,
   "id": "49ddb8e7",
   "metadata": {},
   "outputs": [],
   "source": [
    "_Current_Status = \"I am learning\""
   ]
  },
  {
   "cell_type": "code",
   "execution_count": 17,
   "id": "97459d02",
   "metadata": {},
   "outputs": [
    {
     "data": {
      "text/plain": [
       "'I am learning'"
      ]
     },
     "execution_count": 17,
     "metadata": {},
     "output_type": "execute_result"
    }
   ],
   "source": [
    "_Current_Status"
   ]
  },
  {
   "cell_type": "code",
   "execution_count": 18,
   "id": "1111a6a8",
   "metadata": {},
   "outputs": [],
   "source": [
    "format1 = \"Text type\""
   ]
  },
  {
   "cell_type": "code",
   "execution_count": 19,
   "id": "442520c9",
   "metadata": {},
   "outputs": [
    {
     "data": {
      "text/plain": [
       "'Text type'"
      ]
     },
     "execution_count": 19,
     "metadata": {},
     "output_type": "execute_result"
    }
   ],
   "source": [
    "format1"
   ]
  },
  {
   "cell_type": "code",
   "execution_count": 20,
   "id": "c0a825f1",
   "metadata": {},
   "outputs": [],
   "source": [
    "with_in_quotations_is = \"String\""
   ]
  },
  {
   "cell_type": "code",
   "execution_count": 21,
   "id": "754478e0",
   "metadata": {},
   "outputs": [
    {
     "data": {
      "text/plain": [
       "'String'"
      ]
     },
     "execution_count": 21,
     "metadata": {},
     "output_type": "execute_result"
    }
   ],
   "source": [
    "with_in_quotations_is"
   ]
  },
  {
   "cell_type": "code",
   "execution_count": 22,
   "id": "ed84a047",
   "metadata": {},
   "outputs": [],
   "source": [
    "a = True"
   ]
  },
  {
   "cell_type": "code",
   "execution_count": 23,
   "id": "69866a97",
   "metadata": {},
   "outputs": [
    {
     "data": {
      "text/plain": [
       "True"
      ]
     },
     "execution_count": 23,
     "metadata": {},
     "output_type": "execute_result"
    }
   ],
   "source": [
    "a"
   ]
  },
  {
   "cell_type": "code",
   "execution_count": 24,
   "id": "a22d58de",
   "metadata": {},
   "outputs": [],
   "source": [
    "b = False"
   ]
  },
  {
   "cell_type": "code",
   "execution_count": 25,
   "id": "5b421548",
   "metadata": {},
   "outputs": [
    {
     "data": {
      "text/plain": [
       "False"
      ]
     },
     "execution_count": 25,
     "metadata": {},
     "output_type": "execute_result"
    }
   ],
   "source": [
    "b"
   ]
  },
  {
   "cell_type": "code",
   "execution_count": 26,
   "id": "33e5656b",
   "metadata": {},
   "outputs": [],
   "source": [
    "is_a1 = True"
   ]
  },
  {
   "cell_type": "code",
   "execution_count": 27,
   "id": "efaadee4",
   "metadata": {},
   "outputs": [
    {
     "data": {
      "text/plain": [
       "True"
      ]
     },
     "execution_count": 27,
     "metadata": {},
     "output_type": "execute_result"
    }
   ],
   "source": [
    "is_a1"
   ]
  },
  {
   "cell_type": "code",
   "execution_count": 28,
   "id": "286aee0f",
   "metadata": {},
   "outputs": [],
   "source": [
    "is_b1 = False"
   ]
  },
  {
   "cell_type": "code",
   "execution_count": 29,
   "id": "8f119058",
   "metadata": {},
   "outputs": [
    {
     "data": {
      "text/plain": [
       "False"
      ]
     },
     "execution_count": 29,
     "metadata": {},
     "output_type": "execute_result"
    }
   ],
   "source": [
    "is_b1"
   ]
  },
  {
   "cell_type": "code",
   "execution_count": 30,
   "id": "7394461c",
   "metadata": {},
   "outputs": [],
   "source": [
    "true = True"
   ]
  },
  {
   "cell_type": "code",
   "execution_count": 31,
   "id": "138a8051",
   "metadata": {},
   "outputs": [
    {
     "data": {
      "text/plain": [
       "True"
      ]
     },
     "execution_count": 31,
     "metadata": {},
     "output_type": "execute_result"
    }
   ],
   "source": [
    "true"
   ]
  },
  {
   "cell_type": "code",
   "execution_count": null,
   "id": "e2296121",
   "metadata": {},
   "outputs": [],
   "source": []
  }
 ],
 "metadata": {
  "kernelspec": {
   "display_name": "Python 3 (ipykernel)",
   "language": "python",
   "name": "python3"
  },
  "language_info": {
   "codemirror_mode": {
    "name": "ipython",
    "version": 3
   },
   "file_extension": ".py",
   "mimetype": "text/x-python",
   "name": "python",
   "nbconvert_exporter": "python",
   "pygments_lexer": "ipython3",
   "version": "3.11.4"
  }
 },
 "nbformat": 4,
 "nbformat_minor": 5
}
