{
 "cells": [
  {
   "cell_type": "markdown",
   "id": "da7c6bd9",
   "metadata": {},
   "source": [
    "Task 1: Arithmetic Operators\n",
    "\n",
    "Write a Python program that takes two user-input numbers and displays their sum using the addition operator.\n",
    "\n",
    "Create a program to calculate the area of a rectangle. Prompt the user for the length and width, then use multiplication to find the area.\n",
    "\n",
    "Implement a program that converts temperature from Celsius to Fahrenheit using the formula: Fahrenheit = (Celsius * 9/5) + 32."
   ]
  },
  {
   "cell_type": "code",
   "execution_count": 2,
   "id": "d16acf48",
   "metadata": {},
   "outputs": [
    {
     "name": "stdout",
     "output_type": "stream",
     "text": [
      "the strength of class1 is: 33\n",
      "the strength of class2 is: 29\n",
      "the total strength is: 62\n"
     ]
    }
   ],
   "source": [
    "class1 = int(input('the strength of class1 is: '))                  ##Addition Operator\n",
    "class2 = int(input('the strength of class2 is: '))\n",
    "print('the total strength is:',class1+class2)"
   ]
  },
  {
   "cell_type": "code",
   "execution_count": 3,
   "id": "db28a092",
   "metadata": {},
   "outputs": [
    {
     "name": "stdout",
     "output_type": "stream",
     "text": [
      "leght of rectangle is: 6\n",
      "breath of rectangle is: 2\n",
      "the area of rectangle is:  12\n"
     ]
    }
   ],
   "source": [
    "length = int(input('leght of rectangle is: '))                ##area of rectangle\n",
    "breath = int(input('breath of rectangle is: '))\n",
    "area = length*breath\n",
    "print('the area of rectangle is: ', area)"
   ]
  },
  {
   "cell_type": "code",
   "execution_count": 4,
   "id": "425b5cfa",
   "metadata": {},
   "outputs": [
    {
     "name": "stdout",
     "output_type": "stream",
     "text": [
      "the temperature in celsius is: 93.56\n",
      "the temperature in fahrenheit is:  200.40800000000002\n"
     ]
    }
   ],
   "source": [
    "Celsius = float(input('the temperature in celsius is: '))\n",
    "Fahrenheit = (Celsius*(9/5)) + 32\n",
    "print('the temperature in fahrenheit is: ',Fahrenheit)"
   ]
  },
  {
   "cell_type": "markdown",
   "id": "ebf6179a",
   "metadata": {},
   "source": [
    "Task 2: Comparison Operators\n",
    "\n",
    "Write a program that compares two user-input numbers and prints whether the first number is greater than the second number or not.\n",
    "Create a program that determines whether a user-input year is a leap year or not. A leap year is divisible by 4 and not divisible by 100, unless it is also divisible by 400.\n",
    "Implement a simple guessing game. Generate a random number between 1 and 100 and have the user guess the number. Provide feedback if their guess is too high or too low, and let them know when they've guessed correctly."
   ]
  },
  {
   "cell_type": "code",
   "execution_count": 6,
   "id": "5474be48",
   "metadata": {},
   "outputs": [
    {
     "name": "stdout",
     "output_type": "stream",
     "text": [
      "the value of a is: 80\n",
      "the value of b is: 69\n",
      "a is greater than b:  True\n"
     ]
    }
   ],
   "source": [
    "a = int(input('the value of a is: '))         ##Greater than\n",
    "b= int(input('the value of b is: '))\n",
    "print('a is greater than b: ', a>b)"
   ]
  },
  {
   "cell_type": "code",
   "execution_count": 15,
   "id": "a998808e",
   "metadata": {},
   "outputs": [
    {
     "name": "stdout",
     "output_type": "stream",
     "text": [
      "year is: 2032\n",
      "this is a leap year:  True\n"
     ]
    }
   ],
   "source": [
    "year = int(input('year is: '))                 ##Leap year condition\n",
    "print('this is a leap year: ', (year%4==0) and ((year%100!=0) or (year%400==0)))"
   ]
  },
  {
   "cell_type": "code",
   "execution_count": 34,
   "id": "3a076550",
   "metadata": {},
   "outputs": [
    {
     "name": "stdout",
     "output_type": "stream",
     "text": [
      "the guessed number is: 90\n",
      "the number is too low: False\n",
      "the number is equal:  False\n",
      "the number is too high:  True\n"
     ]
    }
   ],
   "source": [
    "ran = 50                                     ##Gusses number\n",
    "user = int(input('the guessed number is: '))\n",
    "print('the number is too low:', ran>user) \n",
    "print('the number is equal: ', ran==user) \n",
    "print('the number is too high: ', ran<user)"
   ]
  },
  {
   "cell_type": "markdown",
   "id": "4b7b996e",
   "metadata": {},
   "source": [
    "Task 3: Logical Operators\n",
    "\n",
    "Write a program that checks whether a user-input number is positive and even using logical AND (and) operator.\n",
    "\n",
    "Create a login system where you define a correct username and password. Ask the user for their input and compare it with the correct credentials using logical OR (or) operator. Provide access if either the username or password is correct.\n",
    "\n",
    "Implement a program that determines whether a given year is a leap year and divisible by 7 using logical NOT (not) operator."
   ]
  },
  {
   "cell_type": "code",
   "execution_count": 40,
   "id": "7711e00e",
   "metadata": {},
   "outputs": [
    {
     "name": "stdout",
     "output_type": "stream",
     "text": [
      "value of a is: 51\n",
      "the value of a is positive and even:  False\n"
     ]
    }
   ],
   "source": [
    "a = int(input('value of a is: '))                     ##logical And\n",
    "print('the value of a is positive and even: ', (a>0) and (a%2==0))"
   ]
  },
  {
   "cell_type": "code",
   "execution_count": 43,
   "id": "83f7984e",
   "metadata": {},
   "outputs": [
    {
     "name": "stdout",
     "output_type": "stream",
     "text": [
      "the user name is: Vignesh\n",
      "the user password is: vignesh123\n",
      "Access granted:  True\n"
     ]
    }
   ],
   "source": [
    "user_name = 'Vignesh'                            ##logical Or\n",
    "password = 'vignesh123'\n",
    "user_input = input('the user name is: ')\n",
    "user_password = input('the user password is: ')\n",
    "print('Access granted: ', (user_name==user_input) or (password==user_password))"
   ]
  },
  {
   "cell_type": "code",
   "execution_count": 53,
   "id": "ced59203",
   "metadata": {},
   "outputs": [
    {
     "name": "stdout",
     "output_type": "stream",
     "text": [
      "the year is: 2032\n",
      "is a leap year:  True\n"
     ]
    }
   ],
   "source": [
    "year = int(input('the year is: '))            ##logical not\n",
    "print('is a leap year: ', year%4==0 and not(year%7==0))"
   ]
  },
  {
   "cell_type": "markdown",
   "id": "af5bacf8",
   "metadata": {},
   "source": [
    "Task 4: Assignment Operators\n",
    "\n",
    "Write a program to calculate the square of a number using the exponentiation operator (**) and assign it back to the same variable.\n",
    "\n",
    "Create a program that keeps track of the total score in a game. Prompt the user for their latest score and update the total score using the addition assignment operator (+=).\n",
    "\n",
    "Implement a program to convert seconds into hours, minutes, and remaining seconds using both division and modulo operators, and then assign each value using assignment operators."
   ]
  },
  {
   "cell_type": "code",
   "execution_count": 54,
   "id": "b4817914",
   "metadata": {},
   "outputs": [
    {
     "name": "stdout",
     "output_type": "stream",
     "text": [
      "225\n"
     ]
    }
   ],
   "source": [
    "a = 15                   ##Exponential operator\n",
    "a = a**2\n",
    "print(a)"
   ]
  },
  {
   "cell_type": "code",
   "execution_count": 146,
   "id": "89fcbb57",
   "metadata": {},
   "outputs": [
    {
     "name": "stdout",
     "output_type": "stream",
     "text": [
      "the score of new over is: 12\n",
      "113\n"
     ]
    }
   ],
   "source": [
    "total_score = 101                                       ##Addition assignment operator\n",
    "new_over = int(input('the score of new over is: '))\n",
    "total_score = total_score + new_over\n",
    "print(total_score)"
   ]
  },
  {
   "cell_type": "markdown",
   "id": "e54ff74c",
   "metadata": {},
   "source": [
    "Task 5: Bitwise Operators\n",
    "\n",
    "Write a program that performs a bitwise AND operation between two user-input numbers and displays the result.\n",
    "\n",
    "Create a program to toggle the nth bit of a given number. Ask the user for the number and the value of n, then use bitwise XOR (^) operator to toggle the bit.\n",
    "\n",
    "Implement a program to swap the values of two variables without using a temporary variable, only using bitwise XOR (^) operator."
   ]
  },
  {
   "cell_type": "code",
   "execution_count": 150,
   "id": "655cfc54",
   "metadata": {},
   "outputs": [
    {
     "name": "stdout",
     "output_type": "stream",
     "text": [
      "enter value of a: 60\n",
      "enter value of b: 50\n",
      "48\n"
     ]
    }
   ],
   "source": [
    "a = int(input('enter value of a: '))    ##Bitwise And\n",
    "b = int(input('enter value of b: '))\n",
    "print( a & b)"
   ]
  },
  {
   "cell_type": "code",
   "execution_count": 151,
   "id": "7904bc75",
   "metadata": {},
   "outputs": [
    {
     "name": "stdout",
     "output_type": "stream",
     "text": [
      "enter number: 55\n",
      "enter value of n: 3\n",
      "63\n"
     ]
    }
   ],
   "source": [
    "given_number = int(input('enter number: '))    ##Bitwise XOR\n",
    "nth = int(input('enter value of n: '))\n",
    "print(given_number^(1<<nth))"
   ]
  },
  {
   "cell_type": "code",
   "execution_count": 176,
   "id": "ee9ae838",
   "metadata": {},
   "outputs": [],
   "source": [
    "e = 20\n",
    "f = 30"
   ]
  },
  {
   "cell_type": "code",
   "execution_count": 184,
   "id": "15b26d24",
   "metadata": {},
   "outputs": [],
   "source": [
    "e = e^f           ##Swapping\n",
    "f = e^f\n",
    "e = e^f"
   ]
  },
  {
   "cell_type": "code",
   "execution_count": 185,
   "id": "7499b170",
   "metadata": {},
   "outputs": [
    {
     "data": {
      "text/plain": [
       "30"
      ]
     },
     "execution_count": 185,
     "metadata": {},
     "output_type": "execute_result"
    }
   ],
   "source": [
    "e"
   ]
  },
  {
   "cell_type": "code",
   "execution_count": 186,
   "id": "f2cdab8f",
   "metadata": {},
   "outputs": [
    {
     "data": {
      "text/plain": [
       "20"
      ]
     },
     "execution_count": 186,
     "metadata": {},
     "output_type": "execute_result"
    }
   ],
   "source": [
    "f"
   ]
  },
  {
   "cell_type": "code",
   "execution_count": null,
   "id": "3c19c25b",
   "metadata": {},
   "outputs": [],
   "source": []
  }
 ],
 "metadata": {
  "kernelspec": {
   "display_name": "Python 3 (ipykernel)",
   "language": "python",
   "name": "python3"
  },
  "language_info": {
   "codemirror_mode": {
    "name": "ipython",
    "version": 3
   },
   "file_extension": ".py",
   "mimetype": "text/x-python",
   "name": "python",
   "nbconvert_exporter": "python",
   "pygments_lexer": "ipython3",
   "version": "3.11.4"
  }
 },
 "nbformat": 4,
 "nbformat_minor": 5
}
