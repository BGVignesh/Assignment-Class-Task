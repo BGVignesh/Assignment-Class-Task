{
 "cells": [
  {
   "cell_type": "markdown",
   "id": "7611c225",
   "metadata": {},
   "source": [
    "**Write a Python program that uses a while loop to print the numbers from A to P.**"
   ]
  },
  {
   "cell_type": "code",
   "execution_count": 3,
   "id": "f65b64cf",
   "metadata": {},
   "outputs": [
    {
     "name": "stdout",
     "output_type": "stream",
     "text": [
      "A\n",
      "B\n",
      "C\n",
      "D\n",
      "E\n",
      "F\n",
      "G\n",
      "H\n",
      "I\n",
      "J\n",
      "K\n",
      "L\n",
      "M\n",
      "N\n",
      "O\n",
      "P\n"
     ]
    }
   ],
   "source": [
    "a = 0\n",
    "\n",
    "while a<=15:\n",
    "    print(chr(65+a))\n",
    "    a = a+1"
   ]
  },
  {
   "cell_type": "markdown",
   "id": "fa59a50a",
   "metadata": {},
   "source": [
    "**Modify the program to print only the even numbers from 1 to 20 except mutiple of 3 using a while loop.**"
   ]
  },
  {
   "cell_type": "code",
   "execution_count": 12,
   "id": "9801902d",
   "metadata": {},
   "outputs": [
    {
     "name": "stdout",
     "output_type": "stream",
     "text": [
      "2\n",
      "4\n",
      "8\n",
      "10\n",
      "14\n",
      "16\n",
      "20\n"
     ]
    }
   ],
   "source": [
    "a = 1\n",
    "\n",
    "while a<=20:\n",
    "    if a%2==0 and a%3!=0:\n",
    "        print(a)\n",
    "    a = a+1"
   ]
  },
  {
   "cell_type": "markdown",
   "id": "a396deca",
   "metadata": {},
   "source": [
    "**Create a program that prompts the user for an integer input and then uses a while loop to print the countdown from that number to 1.**"
   ]
  },
  {
   "cell_type": "code",
   "execution_count": 13,
   "id": "6819d7d7",
   "metadata": {},
   "outputs": [
    {
     "name": "stdout",
     "output_type": "stream",
     "text": [
      "Enter a number: 10\n",
      "10\n",
      "9\n",
      "8\n",
      "7\n",
      "6\n",
      "5\n",
      "4\n",
      "3\n",
      "2\n",
      "1\n"
     ]
    }
   ],
   "source": [
    "user = int(input(\"Enter a number: \"))\n",
    "\n",
    "while user>=1:\n",
    "    print(user)\n",
    "    user = user-1"
   ]
  },
  {
   "cell_type": "markdown",
   "id": "ba14148a",
   "metadata": {},
   "source": [
    "**Write a Python program that uses a while loop to repeatedly ask the user to enter a number. If the user enters 0, exit the loop using the break statement. Otherwise, continue prompting for numbers.**"
   ]
  },
  {
   "cell_type": "code",
   "execution_count": 1,
   "id": "a631af06",
   "metadata": {},
   "outputs": [
    {
     "name": "stdout",
     "output_type": "stream",
     "text": [
      "Enter a number: 8\n",
      "8\n",
      "Enter a number: 7\n",
      "7\n",
      "Enter a number: 9\n",
      "9\n",
      "Enter a number: 5\n",
      "5\n",
      "Enter a number: 0\n",
      "You entered Zero\n"
     ]
    }
   ],
   "source": [
    "use = int(input(\"Enter a number: \"))\n",
    "\n",
    "print(use)\n",
    "\n",
    "while use:\n",
    "    use = int(input(\"Enter a number: \"))\n",
    "    if use == 0:\n",
    "        print(\"You entered Zero\")\n",
    "        break\n",
    "    else:\n",
    "        print(use)\n",
    "        continue"
   ]
  },
  {
   "cell_type": "markdown",
   "id": "4ad115c4",
   "metadata": {},
   "source": [
    "**Create a program that uses a while loop to print the numbers from 1 to 20, but skip printing the numbers 5, 10, and 15 using the continue statement.**"
   ]
  },
  {
   "cell_type": "code",
   "execution_count": 1,
   "id": "7ffd6b0d",
   "metadata": {},
   "outputs": [
    {
     "name": "stdout",
     "output_type": "stream",
     "text": [
      "1\n",
      "2\n",
      "3\n",
      "4\n",
      "6\n",
      "7\n",
      "8\n",
      "9\n",
      "11\n",
      "12\n",
      "13\n",
      "14\n",
      "16\n",
      "17\n",
      "18\n",
      "19\n",
      "20\n"
     ]
    }
   ],
   "source": [
    "a = 1\n",
    "\n",
    "while a<=20:\n",
    "    if a not in (5,10,15):\n",
    "        print(a)\n",
    "    a= a+1\n",
    "    \n",
    "    "
   ]
  },
  {
   "cell_type": "markdown",
   "id": "5148f8df",
   "metadata": {},
   "source": [
    "**Write a Python program that simulates a simple password entry system. Ask the user to enter a password, and use a while loop to repeatedly prompt for the password until the correct password \"abc123\" is entered. Once the correct password is entered, exit the loop.**"
   ]
  },
  {
   "cell_type": "code",
   "execution_count": 4,
   "id": "8a1b902a",
   "metadata": {},
   "outputs": [
    {
     "name": "stdout",
     "output_type": "stream",
     "text": [
      "Enter your password: skjcah\n",
      "Wrong Password\n",
      "Enter your password: asnadnc\n",
      "Wrong Password\n",
      "Enter your password: abc123\n",
      "Logged in\n"
     ]
    }
   ],
   "source": [
    "password = \"abc123\"\n",
    "\n",
    "while password:\n",
    "    user = input(\"Enter your password: \")\n",
    "    if user != password:\n",
    "        print(\"Wrong Password\")\n",
    "    else:\n",
    "        print(\"Logged in\")\n",
    "        break"
   ]
  },
  {
   "cell_type": "markdown",
   "id": "986594e2",
   "metadata": {},
   "source": [
    "**Calculate and print the sum of all the positive integers entered by the user.**"
   ]
  },
  {
   "cell_type": "code",
   "execution_count": 18,
   "id": "68801e53",
   "metadata": {},
   "outputs": [
    {
     "name": "stdout",
     "output_type": "stream",
     "text": [
      "Enter the number: 8\n",
      "Enter the number: 7\n",
      "15\n",
      "Enter the number: 6\n",
      "21\n",
      "Enter the number: 5\n",
      "26\n",
      "Enter the number: 0\n",
      "26\n"
     ]
    }
   ],
   "source": [
    "num = int(input(\"Enter the number: \"))\n",
    "\n",
    "total = num\n",
    "\n",
    "if num>0:\n",
    "    while num:\n",
    "        num = int(input(\"Enter the number: \"))\n",
    "        total = total + num\n",
    "        print(total)"
   ]
  },
  {
   "cell_type": "code",
   "execution_count": null,
   "id": "6992caa5",
   "metadata": {},
   "outputs": [],
   "source": []
  }
 ],
 "metadata": {
  "kernelspec": {
   "display_name": "Python 3 (ipykernel)",
   "language": "python",
   "name": "python3"
  },
  "language_info": {
   "codemirror_mode": {
    "name": "ipython",
    "version": 3
   },
   "file_extension": ".py",
   "mimetype": "text/x-python",
   "name": "python",
   "nbconvert_exporter": "python",
   "pygments_lexer": "ipython3",
   "version": "3.11.4"
  }
 },
 "nbformat": 4,
 "nbformat_minor": 5
}
