{
 "cells": [
  {
   "cell_type": "markdown",
   "id": "641cb141",
   "metadata": {},
   "source": [
    "**Load the file 'about_python.txt'into your jupyter notebook.** \n",
    "\n",
    "a. Correct wrong statements about python fatures \n",
    "\n",
    "b. How many charactaers present in the data \n",
    "\n",
    "c. How many times 'Python' word is repeated. \n",
    "\n",
    "d. after correcting all ..print complete valid features of the python."
   ]
  },
  {
   "cell_type": "code",
   "execution_count": 1,
   "id": "413a31d9",
   "metadata": {},
   "outputs": [],
   "source": [
    "file = open(\"about_python.txt\", 'r')         ## Reading file to replace"
   ]
  },
  {
   "cell_type": "code",
   "execution_count": 2,
   "id": "504ea3df",
   "metadata": {},
   "outputs": [],
   "source": [
    "replacing = file.read()"
   ]
  },
  {
   "cell_type": "code",
   "execution_count": 3,
   "id": "cee40d08",
   "metadata": {},
   "outputs": [],
   "source": [
    "replacing = replacing.replace(\"compiled\",\"Interpreted\")           \n",
    "replacing = replacing.replace(\"paid\",\"free\")\n",
    "replacing = replacing.replace(\"statically\",\"Dynamic\")\n",
    "replacing = replacing.replace(\"double\",\"Single, double and triple\")\n",
    "replacing = replacing.replace(\"web development\",\"developing websites and software, task automation, data analysis, and data visualisation\")\n",
    "replacing = replacing.replace(\"Elon Musk\",\"Guido van Rossum\")\n"
   ]
  },
  {
   "cell_type": "code",
   "execution_count": 4,
   "id": "9bf66869",
   "metadata": {},
   "outputs": [],
   "source": [
    "file = open(\"about_python.txt\", 'w')           ## Replacing 2 words through write function"
   ]
  },
  {
   "cell_type": "code",
   "execution_count": 5,
   "id": "72398100",
   "metadata": {},
   "outputs": [
    {
     "data": {
      "text/plain": [
       "503"
      ]
     },
     "execution_count": 5,
     "metadata": {},
     "output_type": "execute_result"
    }
   ],
   "source": [
    "file.write(replacing)"
   ]
  },
  {
   "cell_type": "code",
   "execution_count": 6,
   "id": "659ea1db",
   "metadata": {},
   "outputs": [],
   "source": [
    "file.close()"
   ]
  },
  {
   "cell_type": "code",
   "execution_count": 7,
   "id": "58ecf672",
   "metadata": {},
   "outputs": [
    {
     "data": {
      "text/plain": [
       "503"
      ]
     },
     "execution_count": 7,
     "metadata": {},
     "output_type": "execute_result"
    }
   ],
   "source": [
    "len(replacing)           ## number of characters in file"
   ]
  },
  {
   "cell_type": "code",
   "execution_count": 8,
   "id": "c827806e",
   "metadata": {},
   "outputs": [
    {
     "data": {
      "text/plain": [
       "9"
      ]
     },
     "execution_count": 8,
     "metadata": {},
     "output_type": "execute_result"
    }
   ],
   "source": [
    "replacing.count(\"Python\")   ## Number of times Python was repeated"
   ]
  },
  {
   "cell_type": "code",
   "execution_count": 9,
   "id": "8c2ccbac",
   "metadata": {},
   "outputs": [],
   "source": [
    "file = open(\"about_python.txt\", 'r')        ## reading the file to print"
   ]
  },
  {
   "cell_type": "code",
   "execution_count": 10,
   "id": "71dbe26e",
   "metadata": {},
   "outputs": [
    {
     "name": "stdout",
     "output_type": "stream",
     "text": [
      "Python supports object-oriented programming (OOP) concepts.\n",
      "Python is a Interpreted language.\n",
      "Python has a rich ecosystem of third-party libraries.\n",
      "Python is a free programming language\n",
      "Python uses indentation for code block structuring.\n",
      "Python is Dynamic Typed Language\n",
      "Python only supports Single, double and triple quotes for string literals.\n",
      "Python can only be used for developing websites and software, task automation, data analysis, and data visualisation.\n",
      "Python was created by Guido van Rossum.\n"
     ]
    }
   ],
   "source": [
    "print(file.read())                         ## Print the data after correcting"
   ]
  },
  {
   "cell_type": "markdown",
   "id": "4fa60617",
   "metadata": {},
   "source": [
    "**Create a file 'File.txt'which expalains python handling whatever you have learnt today(creating,reading,wring and appending...etc) in detail.That reaload the saved file(i.e File.txt) to jupyter notebook.**"
   ]
  },
  {
   "cell_type": "code",
   "execution_count": 44,
   "id": "adf74eaa",
   "metadata": {},
   "outputs": [],
   "source": [
    "f = open(\"File.txt\",'x')               ## Creating file"
   ]
  },
  {
   "cell_type": "code",
   "execution_count": 56,
   "id": "2d89ac0a",
   "metadata": {},
   "outputs": [],
   "source": [
    "f.writelines([\"File handling: \\n\" ,\"First step is to create a new file with open function and mode = x \\n\",\"Then we can use write function to add text in the file \\n\",\"Then to read what was added to file we need to use same open fuction with mode = r and print the file \\n\", \"Then writelines can be used to add data in different lines \\n\"])\n",
    "f.close()                             ## Writing in the file in different lines"
   ]
  },
  {
   "cell_type": "code",
   "execution_count": 57,
   "id": "04fb4e88",
   "metadata": {},
   "outputs": [
    {
     "name": "stdout",
     "output_type": "stream",
     "text": [
      "File handling: \n",
      "First step is to create a new file with open function and mode = x \n",
      "Then we can use write function to add text in the file \n",
      "Then to read what was added to file we need to use same open fuction with mode = r and print the file \n",
      "Then writelines can be used to add data in different lines \n",
      "\n"
     ]
    }
   ],
   "source": [
    "f = open(\"File.txt\",'r')           ## Reading the file\n",
    "print(f.read())"
   ]
  },
  {
   "cell_type": "code",
   "execution_count": 58,
   "id": "50fd107e",
   "metadata": {},
   "outputs": [],
   "source": [
    "f = open(\"File.txt\",'a')               ## Appending text in last of the file\n",
    "f.write(\"Then if an lines are missed and want to add data in the last we can use append function and mode = a\")\n",
    "f.close()"
   ]
  },
  {
   "cell_type": "code",
   "execution_count": 59,
   "id": "3538e328",
   "metadata": {},
   "outputs": [
    {
     "name": "stdout",
     "output_type": "stream",
     "text": [
      "File handling: \n",
      "First step is to create a new file with open function and mode = x \n",
      "Then we can use write function to add text in the file \n",
      "Then to read what was added to file we need to use same open fuction with mode = r and print the file \n",
      "Then writelines can be used to add data in different lines \n",
      "Then if an lines are missed and want to add data in the last we can use append function and mode = a\n"
     ]
    }
   ],
   "source": [
    "f = open(\"File.txt\",'r')        ## Reading the file again and can see the newly added text\n",
    "print(f.read())"
   ]
  },
  {
   "cell_type": "code",
   "execution_count": 60,
   "id": "316319c9",
   "metadata": {},
   "outputs": [],
   "source": [
    "f = open(\"File.txt\",'a')        ## Appending multiple lines in the file\n",
    "f.writelines([\"If multiples lines are missed and want to add data in the last we can use append function along with writelines and mode = a would be same \\n\",\"The write function is will replace the whole data hence will need to be causious before using it solely \\n\"])\n",
    "f.close()"
   ]
  },
  {
   "cell_type": "code",
   "execution_count": 61,
   "id": "f9014729",
   "metadata": {},
   "outputs": [
    {
     "name": "stdout",
     "output_type": "stream",
     "text": [
      "File handling: \n",
      "First step is to create a new file with open function and mode = x \n",
      "Then we can use write function to add text in the file \n",
      "Then to read what was added to file we need to use same open fuction with mode = r and print the file \n",
      "Then writelines can be used to add data in different lines \n",
      "Then if an lines are missed and want to add data in the last we can use append function and mode = aIf multiples lines are missed and want to add data in the last we can use append function along with writelines and mode = a would be same \n",
      "The write function is will replace the whole data hence will need to be causious before using it solely \n",
      "\n"
     ]
    }
   ],
   "source": [
    "f = open(\"File.txt\",'r')            ## Reading and printing final output.\n",
    "print(f.read())"
   ]
  },
  {
   "cell_type": "code",
   "execution_count": null,
   "id": "47216887",
   "metadata": {},
   "outputs": [],
   "source": []
  }
 ],
 "metadata": {
  "kernelspec": {
   "display_name": "Python 3 (ipykernel)",
   "language": "python",
   "name": "python3"
  },
  "language_info": {
   "codemirror_mode": {
    "name": "ipython",
    "version": 3
   },
   "file_extension": ".py",
   "mimetype": "text/x-python",
   "name": "python",
   "nbconvert_exporter": "python",
   "pygments_lexer": "ipython3",
   "version": "3.11.4"
  }
 },
 "nbformat": 4,
 "nbformat_minor": 5
}
