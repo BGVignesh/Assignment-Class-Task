{
 "cells": [
  {
   "cell_type": "markdown",
   "id": "e67fee10",
   "metadata": {},
   "source": [
    "**Task 1: Basic If-Else Statements Write a Python program that takes an integer as input from the user and prints whether it is multiple of 3 or not using if-else statements.**"
   ]
  },
  {
   "cell_type": "code",
   "execution_count": 2,
   "id": "58f8bcb9",
   "metadata": {},
   "outputs": [
    {
     "name": "stdout",
     "output_type": "stream",
     "text": [
      "Enter a number: 88\n",
      "Number is not a multiple of 3\n"
     ]
    }
   ],
   "source": [
    "Number = int(input(\"Enter a number: \"))\n",
    "\n",
    "if Number%3 ==0:\n",
    "    print(\"Number is multiple of 3\")\n",
    "else:\n",
    "    print(\"Number is not a multiple of 3\")"
   ]
  },
  {
   "cell_type": "markdown",
   "id": "151a2828",
   "metadata": {},
   "source": [
    "**Task 2: Nested If Statements \n",
    "Create a program that asks the user for their age and nationality. Depending on their age and nationality, display a different message using nested if statements. For example, if they are under 18 and from the USA, display \"You are a minor from the USA.\"**"
   ]
  },
  {
   "cell_type": "code",
   "execution_count": 27,
   "id": "c51d56c9",
   "metadata": {},
   "outputs": [
    {
     "name": "stdout",
     "output_type": "stream",
     "text": [
      "Enter your Nationality: Indian\n",
      "Enter your Age: 50\n",
      "Major from India\n"
     ]
    }
   ],
   "source": [
    "Nationality = input(\"Enter your Nationality: \")\n",
    "\n",
    "if Nationality == \"Indian\" or Nationality == \"India\":\n",
    "    Age = float(input(\"Enter your Age: \"))\n",
    "    if Age < 18 and Age >= 0:\n",
    "        print(\"Minor from India\")\n",
    "    elif Age < 0:\n",
    "        print(\"Enter correct age\")\n",
    "    else:\n",
    "        print(\"Major from India\")\n",
    "else:\n",
    "    print(\"Not a Resident of India\")"
   ]
  },
  {
   "cell_type": "markdown",
   "id": "5c322a6e",
   "metadata": {},
   "source": [
    "**Task 3: Grade Calculator Write a program that takes a student's score as input and converts it to a letter grade (A, B, C, D, or F) using if-elif-else statements. Use the following grading scale:**\n",
    "\n",
    "A: 90-100\n",
    "B: 80-89\n",
    "C: 70-79\n",
    "D: 60-69\n",
    "F: Below 60"
   ]
  },
  {
   "cell_type": "code",
   "execution_count": 1,
   "id": "a31acda3",
   "metadata": {},
   "outputs": [
    {
     "name": "stdout",
     "output_type": "stream",
     "text": [
      "Enter your score: 59\n",
      "F Grade\n"
     ]
    }
   ],
   "source": [
    "Score = int(input('Enter your score: '))  \n",
    "\n",
    "if Score >=90 and Score<=100:\n",
    "    print(\"A Grade\")\n",
    "elif Score >=80 and Score<=89:\n",
    "    print(\"B Grade\")\n",
    "elif Score >=70 and Score<=79:\n",
    "    print(\"C Grade\")\n",
    "elif Score >=60 and Score <=69:\n",
    "    print(\"D Grade\")\n",
    "elif Score > 100 or Score <0:\n",
    "    print(\"Enter valid Score\")\n",
    "else:\n",
    "    print(\"F Grade\")"
   ]
  },
  {
   "cell_type": "markdown",
   "id": "d35dd307",
   "metadata": {},
   "source": [
    "**Task 4: Leap Year Checker** Create a Python program that checks if a given year is a leap year or not. Use conditional statements to determine whether the year is divisible by 4, 100, and 400 to decide if it's a leap year."
   ]
  },
  {
   "cell_type": "code",
   "execution_count": 28,
   "id": "4e093471",
   "metadata": {},
   "outputs": [
    {
     "name": "stdout",
     "output_type": "stream",
     "text": [
      "Enter the year: 2000\n",
      "Leap year by combo of all\n"
     ]
    }
   ],
   "source": [
    "year = int(input(\"Enter the year: \"))\n",
    "\n",
    "if (year%4 == 0) and (year%100 == 0) and (year%400 == 0):\n",
    "    print(\"Leap year by combo of all\")\n",
    "elif (year%4 == 0) and (year%400 == 0):\n",
    "    print(\"Leap year by combo of 4 and 400 only\")\n",
    "elif year%4 == 0:\n",
    "    print(\"Leap year\")\n",
    "else:\n",
    "    print(\"Not a Leap year\")"
   ]
  },
  {
   "cell_type": "markdown",
   "id": "d166059b",
   "metadata": {},
   "source": [
    "**Task 5: BMI Calculator**Write a program that calculates a person's Body Mass Index (BMI) based on their height and weight. Then, use conditional statements to categorize the BMI as Underweight, Normal, Overweight, or Obese. Provide guidance on the healthy range for BMI.(use BMI Formula)"
   ]
  },
  {
   "cell_type": "code",
   "execution_count": 16,
   "id": "6432a4e1",
   "metadata": {},
   "outputs": [
    {
     "name": "stdout",
     "output_type": "stream",
     "text": [
      "Enter your height in Cms: 189\n",
      "Enter your weight in Kgs: 85\n",
      "You are Normal weight 23.79552644102909\n"
     ]
    }
   ],
   "source": [
    "height = float(input(\"Enter your height in Cms: \"))\n",
    "weight = float(input(\"Enter your weight in Kgs: \"))\n",
    "\n",
    "if height > 0 and weight > 0:\n",
    "    BMI = weight/((height/100)**2)   \n",
    "    if BMI < 18.5:\n",
    "        print(\"You are Under weight\", BMI)\n",
    "    elif BMI >=18.5 and BMI <= 24.9:\n",
    "        print(\"You are Normal weight\", BMI)\n",
    "    elif BMI >= 25 and BMI <= 29.9:\n",
    "        print(\"You are Over weight\", BMI)\n",
    "    else:\n",
    "        print(\"You are Obese\", BMI)\n",
    "else:\n",
    "    print(\"Enter Correct details\")"
   ]
  },
  {
   "cell_type": "markdown",
   "id": "7a2c06df",
   "metadata": {},
   "source": [
    "**Task 6: Calculator with Menu**\n",
    "Build a simple calculator program that provides a menu with options for addition, subtraction, multiplication, and division. Take user input for two numbersand an operation choice. Use conditional statements to perform the selected operation and display the result."
   ]
  },
  {
   "cell_type": "code",
   "execution_count": 2,
   "id": "46beb093",
   "metadata": {},
   "outputs": [
    {
     "name": "stdout",
     "output_type": "stream",
     "text": [
      "Enter 1st value: 50\n",
      "Enter 2nd value: 60\n",
      "1)ADD 2)SUB 3)MUL 4)DIV\n",
      "Select one option from above: 3\n",
      "The multiplication of two numbers is:  3000\n"
     ]
    }
   ],
   "source": [
    "x = int(input(\"Enter 1st value: \"))\n",
    "y = int(input(\"Enter 2nd value: \"))\n",
    "\n",
    "add = x + y\n",
    "sub = x - y\n",
    "mul = x * y\n",
    "div = x / y\n",
    "\n",
    "print (\"1)ADD\", \"2)SUB\", \"3)MUL\", \"4)DIV\")\n",
    "\n",
    "select = input(\"Select one option from above: \")\n",
    "\n",
    "if select == \"1\":\n",
    "    print(\"The addition of two numbers is: \", add)\n",
    "elif select == \"2\":\n",
    "    print(\"The subtraction of two numbers is: \", sub)\n",
    "elif select == \"3\":\n",
    "    print(\"The multiplication of two numbers is: \", mul)\n",
    "elif select == \"4\":\n",
    "    print(\"The division of two numbers is: \", div)\n",
    "else:\n",
    "    print(\"You have not selected from above Options\")"
   ]
  },
  {
   "cell_type": "markdown",
   "id": "dd873fc6",
   "metadata": {},
   "source": [
    "**Task 7: Temperature Converter** Write a program that converts temperatures between Celsius and Fahrenheit. Allow the user to choose the conversion direction and input the temperature value. Use conditional statements to perform the conversion based on the user's choice.(Do with conversion formula)"
   ]
  },
  {
   "cell_type": "code",
   "execution_count": 7,
   "id": "d6d7e0cc",
   "metadata": {},
   "outputs": [
    {
     "name": "stdout",
     "output_type": "stream",
     "text": [
      "1) Cel-Fah 2) Fah-Cel\n",
      "Select from above options: 1\n",
      "Enter temperature in celcius: 105\n",
      "The Fahrenheit degree is:  221.0\n"
     ]
    }
   ],
   "source": [
    "print(\"1) Cel-Fah\", \"2) Fah-Cel\")\n",
    "\n",
    "select = input(\"Select from above options: \")\n",
    "\n",
    "if select == \"1\":\n",
    "    Cel = float(input(\"Enter temperature in celcius: \"))\n",
    "    Fahrenheit = (Cel * (9/5)) + 32\n",
    "    print(\"The Fahrenheit degree is: \", Fahrenheit)\n",
    "elif select == \"2\":\n",
    "    Fah = float(input(\"Enter temparature in Fahrenheit: \"))\n",
    "    Celcius = (Fah - 32) * (5/9)\n",
    "    print(\"The celcius degree is: \", Celcius)\n",
    "else:\n",
    "    print(\"Worng option selected\")"
   ]
  },
  {
   "cell_type": "code",
   "execution_count": null,
   "id": "ebbeaa88",
   "metadata": {},
   "outputs": [],
   "source": []
  }
 ],
 "metadata": {
  "kernelspec": {
   "display_name": "Python 3 (ipykernel)",
   "language": "python",
   "name": "python3"
  },
  "language_info": {
   "codemirror_mode": {
    "name": "ipython",
    "version": 3
   },
   "file_extension": ".py",
   "mimetype": "text/x-python",
   "name": "python",
   "nbconvert_exporter": "python",
   "pygments_lexer": "ipython3",
   "version": "3.11.4"
  }
 },
 "nbformat": 4,
 "nbformat_minor": 5
}
