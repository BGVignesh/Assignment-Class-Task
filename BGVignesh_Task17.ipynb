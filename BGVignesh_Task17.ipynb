{
 "cells": [
  {
   "cell_type": "markdown",
   "id": "671f5629",
   "metadata": {},
   "source": [
    "**use context manager**\n",
    "\n",
    "**Create a file** Write a Python program that creates a text file named \"data.txt\" and add data about python programming (should contain at least 5 lines)\n",
    "\n"
   ]
  },
  {
   "cell_type": "code",
   "execution_count": 32,
   "id": "d29e23aa",
   "metadata": {},
   "outputs": [],
   "source": [
    "with open(\"data.txt\", 'w+') as d:\n",
    "    d.write(\"Python can be easy to pick up whether you're a first time programmer or you're experienced with other languages. The following pages are a useful first step to get on your way writing programs with Python! \\nThe community hosts conferences and meetups, collaborates on code, and much more. Python's documentation will help you along the way, and the mailing lists will keep you in touch. \\nPython is developed under an OSI-approved open source license, making it freely usable and distributable, even for commercial use. Python's license is administered by the Python Software Foundation. \\n\")"
   ]
  },
  {
   "cell_type": "markdown",
   "id": "e2891f0e",
   "metadata": {},
   "source": [
    "**Read and Display File Contents** Write a Python program that reads a text file named \"data.txt\" and displays its contents on the screen."
   ]
  },
  {
   "cell_type": "code",
   "execution_count": 33,
   "id": "66e532ec",
   "metadata": {},
   "outputs": [
    {
     "name": "stdout",
     "output_type": "stream",
     "text": [
      "Python can be easy to pick up whether you're a first time programmer or you're experienced with other languages. The following pages are a useful first step to get on your way writing programs with Python! \n",
      "The community hosts conferences and meetups, collaborates on code, and much more. Python's documentation will help you along the way, and the mailing lists will keep you in touch. \n",
      "Python is developed under an OSI-approved open source license, making it freely usable and distributable, even for commercial use. Python's license is administered by the Python Software Foundation. \n",
      "\n"
     ]
    }
   ],
   "source": [
    "with open(\"data.txt\", 'r+') as d:\n",
    "    print(d.read())"
   ]
  },
  {
   "cell_type": "markdown",
   "id": "e4f4a5ca",
   "metadata": {},
   "source": [
    "**Count Words in a File** Write a Python program that reads a text file named \"data.txt\" and counts the total number of words in the file. Display the word count on the screen."
   ]
  },
  {
   "cell_type": "code",
   "execution_count": 29,
   "id": "a8ab5b9a",
   "metadata": {},
   "outputs": [],
   "source": [
    "with open(\"data.txt\", 'r+') as d:\n",
    "    count = d.read()"
   ]
  },
  {
   "cell_type": "code",
   "execution_count": 30,
   "id": "a80d1780",
   "metadata": {},
   "outputs": [
    {
     "name": "stdout",
     "output_type": "stream",
     "text": [
      "The count of words:  93\n"
     ]
    }
   ],
   "source": [
    "print(\"The count of words: \", len(count.split()))"
   ]
  },
  {
   "cell_type": "markdown",
   "id": "d9a1f744",
   "metadata": {},
   "source": [
    "**Search and Replace** Create a Python program that reads a text file named \"data.txt\" and asks the user to enter a word to search for. If the word is found in the file, replace all occurrences of the word with a new word provided by the user."
   ]
  },
  {
   "cell_type": "code",
   "execution_count": 31,
   "id": "00108c23",
   "metadata": {},
   "outputs": [
    {
     "name": "stdout",
     "output_type": "stream",
     "text": [
      "Enter a word to search: Python\n",
      "Enter a word to replace: python\n"
     ]
    },
    {
     "data": {
      "text/plain": [
       "\"python can be easy to pick up whether you're a first time programmer or you're experienced with other languages. The following pages are a useful first step to get on your way writing programs with python! \\nThe community hosts conferences and meetups, collaborates on code, and much more. python's documentation will help you along the way, and the mailing lists will keep you in touch. \\npython is developed under an OSI-approved open source license, making it freely usable and distributable, even for commercial use. python's license is administered by the python Software Foundation.\""
      ]
     },
     "execution_count": 31,
     "metadata": {},
     "output_type": "execute_result"
    }
   ],
   "source": [
    "search = input(\"Enter a word to search: \")\n",
    "replace = input(\"Enter a word to replace: \")\n",
    "count.replace(search,replace)"
   ]
  },
  {
   "cell_type": "markdown",
   "id": "a4580687",
   "metadata": {},
   "source": [
    "**Append to a File** Write a Python program that prompts the user to enter a sentence. Append this sentence to an existing file named \"notes.txt\". Make sure the newly added sentence starts on a new line."
   ]
  },
  {
   "cell_type": "code",
   "execution_count": 34,
   "id": "4a3d14b8",
   "metadata": {},
   "outputs": [
    {
     "name": "stdout",
     "output_type": "stream",
     "text": [
      "Enter a sentence about python: The Python Package Index (PyPI) hosts thousands of third-party modules for Python. \n"
     ]
    }
   ],
   "source": [
    "sentence = input(\"Enter a sentence about python: \")\n",
    "\n",
    "with open(\"data.txt\", 'a+') as d:\n",
    "    d.write(sentence)"
   ]
  },
  {
   "cell_type": "code",
   "execution_count": 35,
   "id": "0015433f",
   "metadata": {},
   "outputs": [
    {
     "name": "stdout",
     "output_type": "stream",
     "text": [
      "Python can be easy to pick up whether you're a first time programmer or you're experienced with other languages. The following pages are a useful first step to get on your way writing programs with Python! \n",
      "The community hosts conferences and meetups, collaborates on code, and much more. Python's documentation will help you along the way, and the mailing lists will keep you in touch. \n",
      "Python is developed under an OSI-approved open source license, making it freely usable and distributable, even for commercial use. Python's license is administered by the Python Software Foundation. \n",
      "The Python Package Index (PyPI) hosts thousands of third-party modules for Python. \n"
     ]
    }
   ],
   "source": [
    "with open(\"data.txt\", 'r+') as d:\n",
    "    print(d.read())"
   ]
  },
  {
   "cell_type": "code",
   "execution_count": null,
   "id": "c3d9d57e",
   "metadata": {},
   "outputs": [],
   "source": []
  }
 ],
 "metadata": {
  "kernelspec": {
   "display_name": "Python 3 (ipykernel)",
   "language": "python",
   "name": "python3"
  },
  "language_info": {
   "codemirror_mode": {
    "name": "ipython",
    "version": 3
   },
   "file_extension": ".py",
   "mimetype": "text/x-python",
   "name": "python",
   "nbconvert_exporter": "python",
   "pygments_lexer": "ipython3",
   "version": "3.11.4"
  }
 },
 "nbformat": 4,
 "nbformat_minor": 5
}
