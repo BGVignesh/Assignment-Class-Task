{
 "cells": [
  {
   "cell_type": "markdown",
   "id": "439b8fa6",
   "metadata": {},
   "source": [
    "**Print Numbers from 1 to N:** Write a Python program that uses a for loop to print all numbers from 1 to N and substract 5 from each number.where N is a positive integer entered by the user."
   ]
  },
  {
   "cell_type": "code",
   "execution_count": 2,
   "id": "8b5f29c9",
   "metadata": {},
   "outputs": [
    {
     "name": "stdout",
     "output_type": "stream",
     "text": [
      "Enter the number you want to calculate: 8\n",
      "-4\n",
      "-3\n",
      "-2\n",
      "-1\n",
      "0\n",
      "1\n",
      "2\n"
     ]
    }
   ],
   "source": [
    "N = int(input(\"Enter the number you want to calculate: \"))\n",
    "\n",
    "for i in range(1,N):\n",
    "    print(i - 5)"
   ]
  },
  {
   "cell_type": "markdown",
   "id": "4ca39671",
   "metadata": {},
   "source": [
    "**Calculate the Sum of Numbers from 1 to N:** Write a Python program that calculates and prints the sum of all numbers from 1 to N, where N is a positive integer entered by the user, using a for loop."
   ]
  },
  {
   "cell_type": "code",
   "execution_count": 4,
   "id": "e2752965",
   "metadata": {},
   "outputs": [
    {
     "name": "stdout",
     "output_type": "stream",
     "text": [
      "Enter the number you want to calculate: 50\n",
      "1225\n"
     ]
    }
   ],
   "source": [
    "n = int(input(\"Enter the number you want to calculate: \"))\n",
    "\n",
    "assume = 0\n",
    "\n",
    "for i in range(1,n):\n",
    "    assume = assume + i\n",
    "print(assume)"
   ]
  },
  {
   "cell_type": "markdown",
   "id": "a61ebcc1",
   "metadata": {},
   "source": [
    "**Print Even Numbers:** Write a Python program that prints all even numbers from 50 to 100 using a for loop."
   ]
  },
  {
   "cell_type": "code",
   "execution_count": 5,
   "id": "7ecac198",
   "metadata": {},
   "outputs": [
    {
     "name": "stdout",
     "output_type": "stream",
     "text": [
      "50\n",
      "52\n",
      "54\n",
      "56\n",
      "58\n",
      "60\n",
      "62\n",
      "64\n",
      "66\n",
      "68\n",
      "70\n",
      "72\n",
      "74\n",
      "76\n",
      "78\n",
      "80\n",
      "82\n",
      "84\n",
      "86\n",
      "88\n",
      "90\n",
      "92\n",
      "94\n",
      "96\n",
      "98\n"
     ]
    }
   ],
   "source": [
    "for i in range(50, 100, 2):\n",
    "    print(i)"
   ]
  },
  {
   "cell_type": "markdown",
   "id": "76424879",
   "metadata": {},
   "source": [
    "**Reverse a String:** Write a Python program that takes a string as input and uses a for loop to print the characters of the string in reverse order."
   ]
  },
  {
   "cell_type": "code",
   "execution_count": 13,
   "id": "8f2b514b",
   "metadata": {},
   "outputs": [
    {
     "name": "stdout",
     "output_type": "stream",
     "text": [
      "Enter your name: Vignesh\n",
      "h\n",
      "s\n",
      "e\n",
      "n\n",
      "g\n",
      "i\n",
      "V\n"
     ]
    }
   ],
   "source": [
    "your_name = input(\"Enter your name: \")\n",
    "\n",
    "reverse = your_name[:-10:-1]\n",
    "\n",
    "for i in reverse:\n",
    "    print(i)"
   ]
  },
  {
   "cell_type": "markdown",
   "id": "fedfe9d7",
   "metadata": {},
   "source": [
    "**Count Vowels in a String:** name = \"innomatics research labs\" Write a Python program uses a for loop to count the number of vowels (a, e, i, o, u) in the string. Ignore case sensitivity."
   ]
  },
  {
   "cell_type": "code",
   "execution_count": 19,
   "id": "003b2d82",
   "metadata": {},
   "outputs": [
    {
     "name": "stdout",
     "output_type": "stream",
     "text": [
      "The Consonants are:  ['n', 'n', 'm', 't', 'c', 's', ' ', 'r', 's', 'r', 'c', 'h', ' ', 'l', 'b', 's']\n",
      "The vowels are:  ['i', 'o', 'a', 'i', 'e', 'e', 'a', 'a']\n",
      "Numnber of vowels =  8\n",
      "Number of cons =  16\n"
     ]
    }
   ],
   "source": [
    "name = \"innomatics research labs\"\n",
    "\n",
    "vowels = []\n",
    "cons = []\n",
    "for i in name:\n",
    "    if i in (\"a\",\"e\",\"i\",\"o\",\"u\"):\n",
    "        vowels.append(i)\n",
    "        \n",
    "    else:\n",
    "        cons.append(i)\n",
    "print(\"The Consonants are: \", cons)\n",
    "print(\"The vowels are: \", vowels)\n",
    "print(\"Numnber of vowels = \", len(vowels))\n",
    "print(\"Number of cons = \",len(cons))"
   ]
  },
  {
   "cell_type": "markdown",
   "id": "044748b6",
   "metadata": {},
   "source": [
    "**Generate a Multiplication Table:** Write a Python program that generates and prints the multiplication table for 6."
   ]
  },
  {
   "cell_type": "code",
   "execution_count": 30,
   "id": "677ffc97",
   "metadata": {},
   "outputs": [
    {
     "name": "stdout",
     "output_type": "stream",
     "text": [
      "6\n",
      "12\n",
      "18\n",
      "24\n",
      "30\n",
      "36\n",
      "42\n",
      "48\n",
      "54\n",
      "60\n"
     ]
    }
   ],
   "source": [
    "for i in range(1,11):\n",
    "    print(i*6)"
   ]
  },
  {
   "cell_type": "code",
   "execution_count": null,
   "id": "ca30b796",
   "metadata": {},
   "outputs": [],
   "source": []
  }
 ],
 "metadata": {
  "kernelspec": {
   "display_name": "Python 3 (ipykernel)",
   "language": "python",
   "name": "python3"
  },
  "language_info": {
   "codemirror_mode": {
    "name": "ipython",
    "version": 3
   },
   "file_extension": ".py",
   "mimetype": "text/x-python",
   "name": "python",
   "nbconvert_exporter": "python",
   "pygments_lexer": "ipython3",
   "version": "3.11.4"
  }
 },
 "nbformat": 4,
 "nbformat_minor": 5
}
