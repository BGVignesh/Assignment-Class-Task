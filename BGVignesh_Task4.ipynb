{
 "cells": [
  {
   "cell_type": "markdown",
   "id": "5b21eeb7",
   "metadata": {},
   "source": [
    "**Ask user to enter a website name and check whether it is valid or not(True/False)**"
   ]
  },
  {
   "cell_type": "code",
   "execution_count": 4,
   "id": "68d37276",
   "metadata": {},
   "outputs": [
    {
     "name": "stdout",
     "output_type": "stream",
     "text": [
      "enter website: www.innomaticsresearch.com\n"
     ]
    },
    {
     "data": {
      "text/plain": [
       "True"
      ]
     },
     "execution_count": 4,
     "metadata": {},
     "output_type": "execute_result"
    }
   ],
   "source": [
    "website = input('enter website: ')\n",
    "(website.startswith('www')) and (website.endswith('com'))"
   ]
  },
  {
   "cell_type": "markdown",
   "id": "2054121c",
   "metadata": {},
   "source": [
    "**name = \"Innomatics\", course = \"Data Science\" write python code in different ways to show output as : \"Hello World I am learning Data Science in Innomatics\"**"
   ]
  },
  {
   "cell_type": "code",
   "execution_count": 5,
   "id": "1e09b80d",
   "metadata": {},
   "outputs": [],
   "source": [
    "name = \"Innomatics\"\n",
    "course = \"Data Science\""
   ]
  },
  {
   "cell_type": "code",
   "execution_count": 8,
   "id": "88d96721",
   "metadata": {},
   "outputs": [
    {
     "name": "stdout",
     "output_type": "stream",
     "text": [
      "Hello World I am learning Data Science in Innomatics\n"
     ]
    }
   ],
   "source": [
    "print(\"Hello World I am learning \" +course+ \" in \" +name)            ##format 1"
   ]
  },
  {
   "cell_type": "code",
   "execution_count": 10,
   "id": "64c77fbc",
   "metadata": {},
   "outputs": [
    {
     "name": "stdout",
     "output_type": "stream",
     "text": [
      "Hello World I am learning Data Science in Innomatics\n"
     ]
    }
   ],
   "source": [
    "print(\"Hello World I am learning {} in {}\".format(course, name))     ##format 2"
   ]
  },
  {
   "cell_type": "code",
   "execution_count": 11,
   "id": "ca649680",
   "metadata": {},
   "outputs": [
    {
     "name": "stdout",
     "output_type": "stream",
     "text": [
      "Hello World I am learning Data Science in Innomatics\n"
     ]
    }
   ],
   "source": [
    "print(f\"Hello World I am learning {course} in {name}\")            ##format 3"
   ]
  },
  {
   "cell_type": "markdown",
   "id": "05368274",
   "metadata": {},
   "source": [
    "**Replace Science with Analysis in the above output.**"
   ]
  },
  {
   "cell_type": "code",
   "execution_count": 16,
   "id": "6a916fcc",
   "metadata": {},
   "outputs": [],
   "source": [
    "details = \"Hello World I am learning Data Science in Innomatics\""
   ]
  },
  {
   "cell_type": "code",
   "execution_count": 15,
   "id": "6be0ded3",
   "metadata": {},
   "outputs": [
    {
     "data": {
      "text/plain": [
       "'Hello World I am learning Data Analysis in Innomatics'"
      ]
     },
     "execution_count": 15,
     "metadata": {},
     "output_type": "execute_result"
    }
   ],
   "source": [
    "details.replace(\"Science\", \"Analysis\")                 "
   ]
  },
  {
   "cell_type": "markdown",
   "id": "60684092",
   "metadata": {},
   "source": [
    "**string = '     Hello World I am learning Python in Innomatics   '          a. How many characters are there in the string.        b. Slice only 'Python' from above string            c. Remove white spaces on both sides then find no.of characters in the string. d. Convert the string in Upper case**"
   ]
  },
  {
   "cell_type": "code",
   "execution_count": 17,
   "id": "515d4fbb",
   "metadata": {},
   "outputs": [],
   "source": [
    "string = '     Hello World I am learning Python in Innomatics   '"
   ]
  },
  {
   "cell_type": "code",
   "execution_count": 18,
   "id": "64e3575e",
   "metadata": {},
   "outputs": [
    {
     "data": {
      "text/plain": [
       "54"
      ]
     },
     "execution_count": 18,
     "metadata": {},
     "output_type": "execute_result"
    }
   ],
   "source": [
    "len(string)                   ##Numbner of characters in string"
   ]
  },
  {
   "cell_type": "code",
   "execution_count": 19,
   "id": "c5dfa9b6",
   "metadata": {},
   "outputs": [
    {
     "data": {
      "text/plain": [
       "'Python'"
      ]
     },
     "execution_count": 19,
     "metadata": {},
     "output_type": "execute_result"
    }
   ],
   "source": [
    "string[31:37:1]            ##Slicing"
   ]
  },
  {
   "cell_type": "code",
   "execution_count": 20,
   "id": "e793f57c",
   "metadata": {},
   "outputs": [
    {
     "data": {
      "text/plain": [
       "'Hello World I am learning Python in Innomatics'"
      ]
     },
     "execution_count": 20,
     "metadata": {},
     "output_type": "execute_result"
    }
   ],
   "source": [
    "string.strip()            ##Strip to remove white space"
   ]
  },
  {
   "cell_type": "code",
   "execution_count": 22,
   "id": "659dbb5e",
   "metadata": {},
   "outputs": [
    {
     "data": {
      "text/plain": [
       "'     HELLO WORLD I AM LEARNING PYTHON IN INNOMATICS   '"
      ]
     },
     "execution_count": 22,
     "metadata": {},
     "output_type": "execute_result"
    }
   ],
   "source": [
    "string.upper()            ##Uppercase"
   ]
  },
  {
   "cell_type": "markdown",
   "id": "15320a39",
   "metadata": {},
   "source": [
    "**What is the index number of 'World' in above string.**"
   ]
  },
  {
   "cell_type": "markdown",
   "id": "665b14b5",
   "metadata": {},
   "source": [
    "the index number of World is 2  ##considering each word as one character"
   ]
  },
  {
   "cell_type": "markdown",
   "id": "40b6bd5a",
   "metadata": {},
   "source": [
    "**Split the string with respect to whitespace.after that store that splitted into a variable and find the data typeof that variable.**"
   ]
  },
  {
   "cell_type": "code",
   "execution_count": 27,
   "id": "89e09a23",
   "metadata": {},
   "outputs": [
    {
     "data": {
      "text/plain": [
       "['',\n",
       " '',\n",
       " '',\n",
       " '',\n",
       " '',\n",
       " 'Hello',\n",
       " 'World',\n",
       " 'I',\n",
       " 'am',\n",
       " 'learning',\n",
       " 'Python',\n",
       " 'in',\n",
       " 'Innomatics',\n",
       " '',\n",
       " '',\n",
       " '']"
      ]
     },
     "execution_count": 27,
     "metadata": {},
     "output_type": "execute_result"
    }
   ],
   "source": [
    "string2 = string.split(' ')\n",
    "string2"
   ]
  },
  {
   "cell_type": "code",
   "execution_count": 26,
   "id": "708e5e89",
   "metadata": {},
   "outputs": [
    {
     "data": {
      "text/plain": [
       "list"
      ]
     },
     "execution_count": 26,
     "metadata": {},
     "output_type": "execute_result"
    }
   ],
   "source": [
    "type(string2)"
   ]
  },
  {
   "cell_type": "markdown",
   "id": "576990c1",
   "metadata": {},
   "source": [
    "**How many times 'a' is repeated in above string.**"
   ]
  },
  {
   "cell_type": "code",
   "execution_count": 28,
   "id": "a6a6eba7",
   "metadata": {},
   "outputs": [
    {
     "data": {
      "text/plain": [
       "3"
      ]
     },
     "execution_count": 28,
     "metadata": {},
     "output_type": "execute_result"
    }
   ],
   "source": [
    "string.count('a')"
   ]
  },
  {
   "cell_type": "code",
   "execution_count": null,
   "id": "ca9cae0c",
   "metadata": {},
   "outputs": [],
   "source": []
  }
 ],
 "metadata": {
  "kernelspec": {
   "display_name": "Python 3 (ipykernel)",
   "language": "python",
   "name": "python3"
  },
  "language_info": {
   "codemirror_mode": {
    "name": "ipython",
    "version": 3
   },
   "file_extension": ".py",
   "mimetype": "text/x-python",
   "name": "python",
   "nbconvert_exporter": "python",
   "pygments_lexer": "ipython3",
   "version": "3.11.4"
  }
 },
 "nbformat": 4,
 "nbformat_minor": 5
}
