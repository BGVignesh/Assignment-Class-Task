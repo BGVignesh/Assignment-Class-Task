{
 "cells": [
  {
   "cell_type": "markdown",
   "id": "5a15aa0e",
   "metadata": {},
   "source": [
    "1) Create a lambda function that takes two arguments and returns their sum.\n",
    "  \n",
    "   Create another lambda function that takes a single argument and returns its square.\n",
    "\n",
    "   Use the lambda functions to calculate the sum and square of various numbers and print the results."
   ]
  },
  {
   "cell_type": "code",
   "execution_count": 7,
   "id": "e7ee0824",
   "metadata": {},
   "outputs": [
    {
     "data": {
      "text/plain": [
       "34"
      ]
     },
     "execution_count": 7,
     "metadata": {},
     "output_type": "execute_result"
    }
   ],
   "source": [
    "add = lambda x,y: x+y\n",
    "add(15,19)"
   ]
  },
  {
   "cell_type": "code",
   "execution_count": 8,
   "id": "c39538e2",
   "metadata": {},
   "outputs": [
    {
     "data": {
      "text/plain": [
       "121"
      ]
     },
     "execution_count": 8,
     "metadata": {},
     "output_type": "execute_result"
    }
   ],
   "source": [
    "sqr = lambda n : n**2\n",
    "sqr(11)"
   ]
  },
  {
   "cell_type": "code",
   "execution_count": 15,
   "id": "976ec885",
   "metadata": {},
   "outputs": [
    {
     "data": {
      "text/plain": [
       "9025"
      ]
     },
     "execution_count": 15,
     "metadata": {},
     "output_type": "execute_result"
    }
   ],
   "source": [
    "s_s = lambda z : (sum(z))**2\n",
    "s_s(range(5,15))"
   ]
  },
  {
   "cell_type": "markdown",
   "id": "94d0454f",
   "metadata": {},
   "source": [
    "2) Define a list of integers.\n",
    "\n",
    "   Use the filter function to create a new list that contains only the even numbers from the original list.\n",
    "\n",
    "   Use the filter function again to create a new list that contains only numbers greater than 10 from the original list.\n",
    "   \n",
    "   Print both filtered lists."
   ]
  },
  {
   "cell_type": "code",
   "execution_count": 29,
   "id": "163c7ae8",
   "metadata": {},
   "outputs": [
    {
     "data": {
      "text/plain": [
       "[5, 6, 7, 8, 9, 10, 11, 12, 13, 14, 15, 16, 17, 18]"
      ]
     },
     "execution_count": 29,
     "metadata": {},
     "output_type": "execute_result"
    }
   ],
   "source": [
    "integers = list(range(5,19))\n",
    "integers"
   ]
  },
  {
   "cell_type": "code",
   "execution_count": 30,
   "id": "5052fbb5",
   "metadata": {},
   "outputs": [
    {
     "data": {
      "text/plain": [
       "[6, 8, 10, 12, 14, 16, 18]"
      ]
     },
     "execution_count": 30,
     "metadata": {},
     "output_type": "execute_result"
    }
   ],
   "source": [
    "def even(n):\n",
    "    if n%2 == 0:\n",
    "        return n\n",
    "list(filter(even,integers))"
   ]
  },
  {
   "cell_type": "code",
   "execution_count": 31,
   "id": "dad823c6",
   "metadata": {},
   "outputs": [
    {
     "data": {
      "text/plain": [
       "[11, 12, 13, 14, 15, 16, 17, 18]"
      ]
     },
     "execution_count": 31,
     "metadata": {},
     "output_type": "execute_result"
    }
   ],
   "source": [
    "def g10(a):\n",
    "    if a>10:\n",
    "        return a\n",
    "list(filter(g10,integers))"
   ]
  },
  {
   "cell_type": "code",
   "execution_count": 32,
   "id": "cb968e84",
   "metadata": {},
   "outputs": [
    {
     "name": "stdout",
     "output_type": "stream",
     "text": [
      "The Even numbers are:  [6, 8, 10, 12, 14, 16, 18]\n",
      "The numbers greater than 10 are :  [11, 12, 13, 14, 15, 16, 17, 18]\n"
     ]
    }
   ],
   "source": [
    "print(\"The Even numbers are: \",list(filter(even,integers)))\n",
    "print(\"The numbers greater than 10 are : \", list(filter(g10,integers)))"
   ]
  },
  {
   "cell_type": "markdown",
   "id": "e235bc96",
   "metadata": {},
   "source": [
    "3) Define a list of strings where each string represents a number (e.g., [\"1\", \"2\", \"3\"]).\n",
    "\n",
    "   Use the map function to convert each string to an integer and store the result in a new list.\n",
    "   \n",
    "   Use the map function again to square each integer in the new list and store the result in another new list.\n",
    "   \n",
    "   Print both new lists."
   ]
  },
  {
   "cell_type": "code",
   "execution_count": 51,
   "id": "a39fca3a",
   "metadata": {},
   "outputs": [],
   "source": [
    "string = ['1','2','3','4','5','6','7','8','9']"
   ]
  },
  {
   "cell_type": "code",
   "execution_count": 52,
   "id": "659a52f4",
   "metadata": {},
   "outputs": [],
   "source": [
    "def inte(n):\n",
    "    return int(n)\n",
    "integer_new = list(map(inte,string))"
   ]
  },
  {
   "cell_type": "code",
   "execution_count": 53,
   "id": "04952887",
   "metadata": {},
   "outputs": [],
   "source": [
    "def integers(n):\n",
    "    return (n**2)\n",
    "integer_sqr = list(map(integers,integer_new))"
   ]
  },
  {
   "cell_type": "code",
   "execution_count": 54,
   "id": "ec50b1d1",
   "metadata": {},
   "outputs": [
    {
     "name": "stdout",
     "output_type": "stream",
     "text": [
      "New list after converting from string:  [1, 2, 3, 4, 5, 6, 7, 8, 9]\n",
      "Squares of the new list is:  [1, 4, 9, 16, 25, 36, 49, 64, 81]\n"
     ]
    }
   ],
   "source": [
    "print(\"New list after converting from string: \", integer_new)\n",
    "print(\"Squares of the new list is: \", integer_sqr)"
   ]
  },
  {
   "cell_type": "markdown",
   "id": "550e2bc1",
   "metadata": {},
   "source": [
    "4) Create a list of dictionaries, where each dictionary represents a person with keys \"name\" and \"age\". Example: [{\"name\": \"Alice\", \"age\": 30}, {\"name\": \"Bob\", \"age\": 25}, ...]\n",
    "   \n",
    "   Use the filter function to create a new list that contains only the people who are older than 25.\n",
    "   \n",
    "   Use the map function to create a new list that contains the names of the filtered people.\n",
    "   \n",
    "   Print the list of names."
   ]
  },
  {
   "cell_type": "code",
   "execution_count": 55,
   "id": "963d690e",
   "metadata": {},
   "outputs": [],
   "source": [
    "name_age = [{\"name\":\"Vignesh\",\"Age\":27},{\"name\":\"Vamshi\",\"Age\":20},{\"name\":\"Vaishnavi\",\"Age\":29},{\"name\":\"Abhinav\",\"Age\":28},{\"name\":\"Hari\",\"Age\":17}]"
   ]
  },
  {
   "cell_type": "code",
   "execution_count": 86,
   "id": "07640230",
   "metadata": {},
   "outputs": [
    {
     "data": {
      "text/plain": [
       "[{'name': 'Vignesh', 'Age': 27},\n",
       " {'name': 'Vaishnavi', 'Age': 29},\n",
       " {'name': 'Abhinav', 'Age': 28}]"
      ]
     },
     "execution_count": 86,
     "metadata": {},
     "output_type": "execute_result"
    }
   ],
   "source": [
    "def pos(y):\n",
    "    if y[\"Age\"]>25:\n",
    "        return y\n",
    "abv25 = list(filter(pos,name_age))\n",
    "abv25"
   ]
  },
  {
   "cell_type": "code",
   "execution_count": 87,
   "id": "c37c9c55",
   "metadata": {},
   "outputs": [
    {
     "name": "stdout",
     "output_type": "stream",
     "text": [
      "Name of people above 25 years of age:  ['Vignesh', 'Vaishnavi', 'Abhinav']\n"
     ]
    }
   ],
   "source": [
    "def name(x):\n",
    "    return x[\"name\"]\n",
    "names = list(map(name,abv25))\n",
    "print(\"Name of people above 25 years of age: \", names)"
   ]
  },
  {
   "cell_type": "markdown",
   "id": "c7847ac4",
   "metadata": {},
   "source": [
    "5) Create a program that reads a list of numbers from the user (you can use the input function for this).\n",
    "   \n",
    "   Use map and filter functions to perform the following operations:\n",
    "       \n",
    "       Square each number.\n",
    "       \n",
    "       Filter out numbers that are not divisible by 3.\n",
    "   \n",
    "   Print the result."
   ]
  },
  {
   "cell_type": "code",
   "execution_count": 9,
   "id": "b7286e58",
   "metadata": {},
   "outputs": [
    {
     "name": "stdout",
     "output_type": "stream",
     "text": [
      "Enter a number: 12\n"
     ]
    }
   ],
   "source": [
    "n = int(input(\"Enter a number: \"))\n",
    "\n",
    "reads = list(range(5,n))"
   ]
  },
  {
   "cell_type": "code",
   "execution_count": 7,
   "id": "ae98fcac",
   "metadata": {},
   "outputs": [],
   "source": [
    "def sqrs(g):\n",
    "    return g**2\n",
    "squares = list(map(sqrs,reads))"
   ]
  },
  {
   "cell_type": "code",
   "execution_count": 8,
   "id": "9eb5b2c1",
   "metadata": {},
   "outputs": [],
   "source": [
    "def fil(d):\n",
    "    if d%3!=0:\n",
    "        return d\n",
    "d3 = list(filter(fil,list2))"
   ]
  },
  {
   "cell_type": "code",
   "execution_count": 10,
   "id": "74ef0eb6",
   "metadata": {},
   "outputs": [
    {
     "name": "stdout",
     "output_type": "stream",
     "text": [
      "The Original list:  [5, 6, 7, 8, 9, 10, 11]\n",
      "The Squares of the list:  [25, 36, 49, 64, 81, 100, 121]\n",
      "The integers not divisible by 3 are:  [25, 49, 64, 100, 121]\n"
     ]
    }
   ],
   "source": [
    "print(\"The Original list: \", reads)\n",
    "print(\"The Squares of the list: \", squares)\n",
    "print(\"The integers not divisible by 3 are: \", d3)"
   ]
  },
  {
   "cell_type": "code",
   "execution_count": null,
   "id": "65ce78f8",
   "metadata": {},
   "outputs": [],
   "source": []
  }
 ],
 "metadata": {
  "kernelspec": {
   "display_name": "Python 3 (ipykernel)",
   "language": "python",
   "name": "python3"
  },
  "language_info": {
   "codemirror_mode": {
    "name": "ipython",
    "version": 3
   },
   "file_extension": ".py",
   "mimetype": "text/x-python",
   "name": "python",
   "nbconvert_exporter": "python",
   "pygments_lexer": "ipython3",
   "version": "3.11.4"
  }
 },
 "nbformat": 4,
 "nbformat_minor": 5
}
