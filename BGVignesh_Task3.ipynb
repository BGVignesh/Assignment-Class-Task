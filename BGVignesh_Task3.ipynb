{
 "cells": [
  {
   "cell_type": "markdown",
   "id": "6decf52f",
   "metadata": {},
   "source": [
    "Task 1:\n",
    "\n",
    "Create a string containing a sentence that includes both single and double quotes.\n",
    "\n",
    "Use escape characters to include quotes within the string.\n",
    "\n",
    "Print the modified string."
   ]
  },
  {
   "cell_type": "code",
   "execution_count": 15,
   "id": "478ab675",
   "metadata": {},
   "outputs": [
    {
     "name": "stdout",
     "output_type": "stream",
     "text": [
      "I am \"vignesh\", age \"26\", from \"hyderabad\"\n"
     ]
    }
   ],
   "source": [
    "details = 'I am \"vignesh\", age \"26\", from \"hyderabad\"'    ##Single and double quotations\n",
    "print(details)"
   ]
  },
  {
   "cell_type": "code",
   "execution_count": 13,
   "id": "8bccf6e9",
   "metadata": {},
   "outputs": [
    {
     "data": {
      "text/plain": [
       "\"\\\\I am vignesh', age 26, from hyderabad\""
      ]
     },
     "execution_count": 13,
     "metadata": {},
     "output_type": "execute_result"
    }
   ],
   "source": [
    "details = '\\I am vignesh\\', age 26, from hyderabad'      ##escape characters\n",
    "details"
   ]
  },
  {
   "cell_type": "code",
   "execution_count": 20,
   "id": "51bd0c6b",
   "metadata": {},
   "outputs": [],
   "source": [
    "details = 'I am vignesh, age 26, from hyderabad'    ##Modifying string"
   ]
  },
  {
   "cell_type": "code",
   "execution_count": 21,
   "id": "ccf2834a",
   "metadata": {},
   "outputs": [
    {
     "data": {
      "text/plain": [
       "'I AM VIGNESH, AGE 26, FROM HYDERABAD'"
      ]
     },
     "execution_count": 21,
     "metadata": {},
     "output_type": "execute_result"
    }
   ],
   "source": [
    "details.upper()"
   ]
  },
  {
   "cell_type": "markdown",
   "id": "61a5a2ae",
   "metadata": {},
   "source": [
    "Task 2:\n",
    "\n",
    "Declare a string with a backslash \\ character in it.\n",
    "\n",
    "Demonstrate the use of the escape character to print the backslash itself.\n",
    "\n",
    "Print the resulting string."
   ]
  },
  {
   "cell_type": "code",
   "execution_count": 26,
   "id": "352aeb9f",
   "metadata": {},
   "outputs": [
    {
     "name": "stdout",
     "output_type": "stream",
     "text": [
      "Vignesh B\bG\n"
     ]
    }
   ],
   "source": [
    "print(\"Vignesh B\\bG\")              ##Backslash\n"
   ]
  },
  {
   "cell_type": "markdown",
   "id": "c5564af8",
   "metadata": {},
   "source": [
    "##An escape character is a backslash \\ followed by the character you want to insert."
   ]
  },
  {
   "cell_type": "code",
   "execution_count": 28,
   "id": "16fe55fd",
   "metadata": {},
   "outputs": [
    {
     "name": "stdout",
     "output_type": "stream",
     "text": [
      "\\VigneshB\b G\n"
     ]
    }
   ],
   "source": [
    "print('\\VigneshB\\b G')           ##escape character with backslash"
   ]
  },
  {
   "cell_type": "markdown",
   "id": "4175dd8d",
   "metadata": {},
   "source": [
    "Task 3:\n",
    "\n",
    "Construct a string containing newline and tab escape sequences.\n",
    "\n",
    "Print the string to display the formatted output."
   ]
  },
  {
   "cell_type": "code",
   "execution_count": 30,
   "id": "47a82cec",
   "metadata": {},
   "outputs": [
    {
     "name": "stdout",
     "output_type": "stream",
     "text": [
      "vignesh \n",
      "is from \n",
      "batch 252\n"
     ]
    }
   ],
   "source": [
    "print(\"vignesh \\nis from \\nbatch 252\")         ##New line"
   ]
  },
  {
   "cell_type": "code",
   "execution_count": 34,
   "id": "889e6c3e",
   "metadata": {},
   "outputs": [
    {
     "name": "stdout",
     "output_type": "stream",
     "text": [
      "vignesh \tis from \tbatch 252\n"
     ]
    }
   ],
   "source": [
    "print('vignesh \\tis from \\tbatch 252')        ##tab"
   ]
  },
  {
   "cell_type": "markdown",
   "id": "aaef937f",
   "metadata": {},
   "source": [
    "Task 4:\n",
    "\n",
    "sentence = \"I want to become Data Scientist\".\n",
    "\n",
    "Access and print the first character of the string using indexing.\n",
    "\n",
    "Access and print the last character of the string using negative indexing."
   ]
  },
  {
   "cell_type": "code",
   "execution_count": 35,
   "id": "f074ee8f",
   "metadata": {},
   "outputs": [],
   "source": [
    "sentence = \"I want to become Data Scientist\""
   ]
  },
  {
   "cell_type": "code",
   "execution_count": 38,
   "id": "27a678da",
   "metadata": {},
   "outputs": [
    {
     "data": {
      "text/plain": [
       "'I'"
      ]
     },
     "execution_count": 38,
     "metadata": {},
     "output_type": "execute_result"
    }
   ],
   "source": [
    "sentence[0]             ##Indexing "
   ]
  },
  {
   "cell_type": "code",
   "execution_count": 44,
   "id": "4e9e63cd",
   "metadata": {},
   "outputs": [
    {
     "data": {
      "text/plain": [
       "'t'"
      ]
     },
     "execution_count": 44,
     "metadata": {},
     "output_type": "execute_result"
    }
   ],
   "source": [
    "sentence[-1]           ##Negative indexing"
   ]
  },
  {
   "cell_type": "markdown",
   "id": "453c2a72",
   "metadata": {},
   "source": [
    "Task 5:\n",
    "\n",
    "What are possible ways yo extract Scientist(use forward and reverse)\n",
    "\n",
    "Use slicing to extract and print the first word from the string.\n",
    "\n",
    "Use slicing to extract and print the last three characters of the string."
   ]
  },
  {
   "cell_type": "code",
   "execution_count": 45,
   "id": "7bc7069b",
   "metadata": {},
   "outputs": [
    {
     "data": {
      "text/plain": [
       "'Scientist'"
      ]
     },
     "execution_count": 45,
     "metadata": {},
     "output_type": "execute_result"
    }
   ],
   "source": [
    "sentence[22::]           ##below 4 are Posible ways to extract scientist"
   ]
  },
  {
   "cell_type": "code",
   "execution_count": 46,
   "id": "22508551",
   "metadata": {},
   "outputs": [
    {
     "data": {
      "text/plain": [
       "'Scientist'"
      ]
     },
     "execution_count": 46,
     "metadata": {},
     "output_type": "execute_result"
    }
   ],
   "source": [
    "sentence[22:32:1]"
   ]
  },
  {
   "cell_type": "code",
   "execution_count": 47,
   "id": "498fa34a",
   "metadata": {},
   "outputs": [
    {
     "data": {
      "text/plain": [
       "'Scientist'"
      ]
     },
     "execution_count": 47,
     "metadata": {},
     "output_type": "execute_result"
    }
   ],
   "source": [
    "sentence[22:32:]"
   ]
  },
  {
   "cell_type": "code",
   "execution_count": 51,
   "id": "36090152",
   "metadata": {},
   "outputs": [
    {
     "data": {
      "text/plain": [
       "'Scientist'"
      ]
     },
     "execution_count": 51,
     "metadata": {},
     "output_type": "execute_result"
    }
   ],
   "source": [
    "sentence[-9::]"
   ]
  },
  {
   "cell_type": "code",
   "execution_count": 52,
   "id": "6033160d",
   "metadata": {},
   "outputs": [
    {
     "data": {
      "text/plain": [
       "'I '"
      ]
     },
     "execution_count": 52,
     "metadata": {},
     "output_type": "execute_result"
    }
   ],
   "source": [
    "sentence[0:2:1]         ##slicing to extract first word"
   ]
  },
  {
   "cell_type": "code",
   "execution_count": 53,
   "id": "bf2462de",
   "metadata": {},
   "outputs": [
    {
     "data": {
      "text/plain": [
       "'ist'"
      ]
     },
     "execution_count": 53,
     "metadata": {},
     "output_type": "execute_result"
    }
   ],
   "source": [
    "sentence[-3::]         ##slicing last 3 characters"
   ]
  },
  {
   "cell_type": "markdown",
   "id": "ada25abc",
   "metadata": {},
   "source": [
    "Task 6:\n",
    "\n",
    "name = \"Innomatics Reserach Labs\"\n",
    "\n",
    "Apply slicing to extract a substring that includes the second to fifth characters.\n",
    "\n",
    "Print the extracted substring."
   ]
  },
  {
   "cell_type": "code",
   "execution_count": 54,
   "id": "e6270e78",
   "metadata": {},
   "outputs": [],
   "source": [
    "name = \"Innomatics Reserach Labs\""
   ]
  },
  {
   "cell_type": "code",
   "execution_count": 57,
   "id": "b287a995",
   "metadata": {},
   "outputs": [
    {
     "data": {
      "text/plain": [
       "'nnoma'"
      ]
     },
     "execution_count": 57,
     "metadata": {},
     "output_type": "execute_result"
    }
   ],
   "source": [
    "name[1:6:1]         ##as it start with 0 indexing 2nd character number would be 1"
   ]
  },
  {
   "cell_type": "markdown",
   "id": "160c810b",
   "metadata": {},
   "source": [
    "Task 7:\n",
    "\n",
    "string = \"Python@1234\"\n",
    "\n",
    "Use slicing to extract every second character from the string.\n",
    "\n",
    "Print the resulting sliced string."
   ]
  },
  {
   "cell_type": "code",
   "execution_count": 58,
   "id": "014d1183",
   "metadata": {},
   "outputs": [],
   "source": [
    "string = \"Python@1234\""
   ]
  },
  {
   "cell_type": "code",
   "execution_count": 60,
   "id": "c15d293d",
   "metadata": {},
   "outputs": [
    {
     "data": {
      "text/plain": [
       "'Pto@24'"
      ]
     },
     "execution_count": 60,
     "metadata": {},
     "output_type": "execute_result"
    }
   ],
   "source": [
    "string[0::2]              ##to extract every second character"
   ]
  },
  {
   "cell_type": "markdown",
   "id": "acecef2a",
   "metadata": {},
   "source": [
    "Task 8:\n",
    "\n",
    "print last five letters.\n",
    "\n",
    "Utilize slicing to reverse the word order in the string.\n",
    "\n",
    "Print the string with the words in the reversed order."
   ]
  },
  {
   "cell_type": "code",
   "execution_count": 61,
   "id": "8f19b8bd",
   "metadata": {},
   "outputs": [],
   "source": [
    "name = \"Innomatics Reserach Labs\""
   ]
  },
  {
   "cell_type": "code",
   "execution_count": 63,
   "id": "222e53f3",
   "metadata": {},
   "outputs": [
    {
     "data": {
      "text/plain": [
       "'sbaL '"
      ]
     },
     "execution_count": 63,
     "metadata": {},
     "output_type": "execute_result"
    }
   ],
   "source": [
    "name[-1:-6:-1]           ##Last five letters in reverse order which also includes space"
   ]
  },
  {
   "cell_type": "markdown",
   "id": "4505850b",
   "metadata": {},
   "source": [
    "Task 9:\n",
    "\n",
    "a = \"123123123\"\n",
    "\n",
    "Apply slicing to extract only the numeric characters at odd positions.\n",
    "\n",
    "Print the sliced result."
   ]
  },
  {
   "cell_type": "code",
   "execution_count": 64,
   "id": "e2149fd9",
   "metadata": {},
   "outputs": [],
   "source": [
    "a = \"123123123\""
   ]
  },
  {
   "cell_type": "code",
   "execution_count": 67,
   "id": "8ca603fd",
   "metadata": {},
   "outputs": [
    {
     "data": {
      "text/plain": [
       "'13213'"
      ]
     },
     "execution_count": 67,
     "metadata": {},
     "output_type": "execute_result"
    }
   ],
   "source": [
    "a[0::2]             ##every odd potions is extracted"
   ]
  }
 ],
 "metadata": {
  "kernelspec": {
   "display_name": "Python 3 (ipykernel)",
   "language": "python",
   "name": "python3"
  },
  "language_info": {
   "codemirror_mode": {
    "name": "ipython",
    "version": 3
   },
   "file_extension": ".py",
   "mimetype": "text/x-python",
   "name": "python",
   "nbconvert_exporter": "python",
   "pygments_lexer": "ipython3",
   "version": "3.11.4"
  }
 },
 "nbformat": 4,
 "nbformat_minor": 5
}
