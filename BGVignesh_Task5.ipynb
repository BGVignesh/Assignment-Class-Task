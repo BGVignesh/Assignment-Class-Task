{
 "cells": [
  {
   "cell_type": "markdown",
   "id": "6ba83998",
   "metadata": {},
   "source": [
    "**Task1: Append and Modify Elements**\n",
    "\n",
    "Create an empty list called numbers. Append the numbers 1, 2, and 3 to the list.\n",
    "\n",
    "Modify the element at index 1 to be 4.\n",
    "\n",
    "Print the updated list."
   ]
  },
  {
   "cell_type": "code",
   "execution_count": 16,
   "id": "57cba563",
   "metadata": {},
   "outputs": [],
   "source": [
    "lis = []"
   ]
  },
  {
   "cell_type": "code",
   "execution_count": 17,
   "id": "fd6eed03",
   "metadata": {},
   "outputs": [],
   "source": [
    "lis.extend([1 , 2, 3])            ##to add single element append can be used as there are 3 elemets to add used extend"
   ]
  },
  {
   "cell_type": "code",
   "execution_count": 18,
   "id": "0f8c3464",
   "metadata": {},
   "outputs": [],
   "source": [
    "lis.insert(1, 4)"
   ]
  },
  {
   "cell_type": "code",
   "execution_count": 19,
   "id": "662755cb",
   "metadata": {},
   "outputs": [],
   "source": [
    "lis.remove(2)"
   ]
  },
  {
   "cell_type": "code",
   "execution_count": 20,
   "id": "dd56c55a",
   "metadata": {},
   "outputs": [
    {
     "data": {
      "text/plain": [
       "[1, 4, 3]"
      ]
     },
     "execution_count": 20,
     "metadata": {},
     "output_type": "execute_result"
    }
   ],
   "source": [
    "lis"
   ]
  },
  {
   "cell_type": "markdown",
   "id": "23507b8e",
   "metadata": {},
   "source": [
    "**Task2: Slicing and Concatenation**\n",
    "\n",
    "Create a list called fruits with elements 'apple', 'banana', 'orange', 'mango', and 'kiwi'.\n",
    "\n",
    "Create a new list by slicing fruits to include only the citrus fruits ('orange' and 'mango\"). * Create a new list called tropical by slicing fruits to include only the tropical fruits ('banana\" and \"kiwi').\n",
    "\n",
    "Concatenate citrus and tropical lists to create a new list called combined. Print combined."
   ]
  },
  {
   "cell_type": "code",
   "execution_count": 43,
   "id": "8142152c",
   "metadata": {},
   "outputs": [],
   "source": [
    "fruits = ['apple', 'banana', 'orange', 'mango', 'kiwi']        ## List of fruits"
   ]
  },
  {
   "cell_type": "code",
   "execution_count": 44,
   "id": "de38bf33",
   "metadata": {},
   "outputs": [],
   "source": [
    "citrus_fruits = fruits[2:4:]                              ## Slicing for citrus fruits"
   ]
  },
  {
   "cell_type": "code",
   "execution_count": 45,
   "id": "d57a9351",
   "metadata": {},
   "outputs": [],
   "source": [
    "fruits1 = fruits.copy()                               ## creating a copy without disturbing original"
   ]
  },
  {
   "cell_type": "code",
   "execution_count": 46,
   "id": "e7eadf64",
   "metadata": {},
   "outputs": [
    {
     "data": {
      "text/plain": [
       "'orange'"
      ]
     },
     "execution_count": 46,
     "metadata": {},
     "output_type": "execute_result"
    }
   ],
   "source": [
    "fruits1.pop(2)          "
   ]
  },
  {
   "cell_type": "code",
   "execution_count": 47,
   "id": "e7a1266c",
   "metadata": {},
   "outputs": [
    {
     "data": {
      "text/plain": [
       "'mango'"
      ]
     },
     "execution_count": 47,
     "metadata": {},
     "output_type": "execute_result"
    }
   ],
   "source": [
    "fruits1.pop(2)"
   ]
  },
  {
   "cell_type": "code",
   "execution_count": 48,
   "id": "33e61652",
   "metadata": {},
   "outputs": [],
   "source": [
    "tropical_fruits = fruits1[1:3:]                  ## SLicing for tropical fruits"
   ]
  },
  {
   "cell_type": "code",
   "execution_count": 50,
   "id": "e2c99859",
   "metadata": {},
   "outputs": [],
   "source": [
    "combined = citrus_fruits + tropical_fruits"
   ]
  },
  {
   "cell_type": "code",
   "execution_count": 51,
   "id": "0b0b5361",
   "metadata": {},
   "outputs": [
    {
     "data": {
      "text/plain": [
       "['orange', 'mango', 'banana', 'kiwi']"
      ]
     },
     "execution_count": 51,
     "metadata": {},
     "output_type": "execute_result"
    }
   ],
   "source": [
    "combined                                           ## New List"
   ]
  },
  {
   "cell_type": "markdown",
   "id": "de844e0d",
   "metadata": {},
   "source": [
    "**Task3: Counting and Removing Elements**\n",
    "\n",
    "Create a list called colors with repeated elements 'red', 'blue', 'red', 'green', 'red'. Print the number of occurrences of 'red' in the list. Remove all occurrences of 'red' from the list. Print the updated list."
   ]
  },
  {
   "cell_type": "code",
   "execution_count": 64,
   "id": "f6958e2a",
   "metadata": {},
   "outputs": [],
   "source": [
    "colors = ['red', 'blue', 'red', 'green', 'red']"
   ]
  },
  {
   "cell_type": "code",
   "execution_count": 65,
   "id": "98cc522f",
   "metadata": {},
   "outputs": [
    {
     "data": {
      "text/plain": [
       "3"
      ]
     },
     "execution_count": 65,
     "metadata": {},
     "output_type": "execute_result"
    }
   ],
   "source": [
    "colors.count('red')           ## Count of red"
   ]
  },
  {
   "cell_type": "code",
   "execution_count": 66,
   "id": "925c6321",
   "metadata": {},
   "outputs": [
    {
     "data": {
      "text/plain": [
       "'red'"
      ]
     },
     "execution_count": 66,
     "metadata": {},
     "output_type": "execute_result"
    }
   ],
   "source": [
    "colors.pop(0)                 ## removing red from all positions\n",
    "colors.pop(1)\n",
    "colors.pop(2)"
   ]
  },
  {
   "cell_type": "code",
   "execution_count": 67,
   "id": "6088edf4",
   "metadata": {},
   "outputs": [
    {
     "data": {
      "text/plain": [
       "['blue', 'green']"
      ]
     },
     "execution_count": 67,
     "metadata": {},
     "output_type": "execute_result"
    }
   ],
   "source": [
    "colors                     ## After removing red"
   ]
  },
  {
   "cell_type": "markdown",
   "id": "9f7ab4ee",
   "metadata": {},
   "source": [
    "**Task 4: List Manipulation**\n",
    "\n",
    "Add 'cheese' to the end of the list. Remove 'milk' from the list.\n",
    "\n",
    "Create a list called groceries with initial items: 'bread', 'milk', 'eggs', 'butter'. Print the final list of groceries.\n",
    "\n",
    "Insert 'yogurt' at index 1."
   ]
  },
  {
   "cell_type": "code",
   "execution_count": 68,
   "id": "03af0f40",
   "metadata": {},
   "outputs": [],
   "source": [
    "groceries = ['bread', 'milk', 'eggs', 'butter']"
   ]
  },
  {
   "cell_type": "code",
   "execution_count": 69,
   "id": "400ab33f",
   "metadata": {},
   "outputs": [],
   "source": [
    "groceries.append('cheese')            ## Added cheese\n",
    "groceries.remove('milk')              ## removed milk"
   ]
  },
  {
   "cell_type": "code",
   "execution_count": 70,
   "id": "0f4d3072",
   "metadata": {},
   "outputs": [],
   "source": [
    "groceries.insert(1, 'yogurt')          ## Inserted yogurt"
   ]
  },
  {
   "cell_type": "code",
   "execution_count": 71,
   "id": "916becf5",
   "metadata": {},
   "outputs": [
    {
     "data": {
      "text/plain": [
       "['bread', 'yogurt', 'eggs', 'butter', 'cheese']"
      ]
     },
     "execution_count": 71,
     "metadata": {},
     "output_type": "execute_result"
    }
   ],
   "source": [
    "groceries                             ## Final output"
   ]
  }
 ],
 "metadata": {
  "kernelspec": {
   "display_name": "Python 3 (ipykernel)",
   "language": "python",
   "name": "python3"
  },
  "language_info": {
   "codemirror_mode": {
    "name": "ipython",
    "version": 3
   },
   "file_extension": ".py",
   "mimetype": "text/x-python",
   "name": "python",
   "nbconvert_exporter": "python",
   "pygments_lexer": "ipython3",
   "version": "3.11.4"
  }
 },
 "nbformat": 4,
 "nbformat_minor": 5
}
